{
 "cells": [
  {
   "cell_type": "code",
   "execution_count": 1,
   "metadata": {},
   "outputs": [
    {
     "name": "stderr",
     "output_type": "stream",
     "text": [
      "Using TensorFlow backend.\n"
     ]
    }
   ],
   "source": [
    "from tensorflow.keras.layers import (Conv2D, UpSampling2D, Conv2DTranspose, concatenate, MaxPooling2D, \n",
    "                                     Activation, Dropout, Cropping2D, Flatten, Dense, BatchNormalization)\n",
    "from tensorflow.keras.models import Model\n",
    "from tensorflow.keras import Input\n",
    "from tensorflow.keras.optimizers import Adam\n",
    "from tensorflow.keras.callbacks import ReduceLROnPlateau, EarlyStopping, ModelCheckpoint\n",
    "import tensorflow as tf\n",
    "import pandas as pd\n",
    "from sklearn.model_selection import train_test_split\n",
    "import numpy as np\n",
    "from imblearn.over_sampling import SMOTE\n",
    "from imblearn.under_sampling import RandomUnderSampler\n",
    "from imblearn.pipeline import Pipeline\n",
    "from sklearn.preprocessing import LabelEncoder"
   ]
  },
  {
   "cell_type": "code",
   "execution_count": 2,
   "metadata": {},
   "outputs": [],
   "source": [
    "IMG_HEIGHT = 300\n",
    "IMG_WIDTH = 300\n",
    "TRAIN_IMAGE_PATH = \"jpeg/train/\"\n",
    "TEST_IMAGE_PATH = \"jpeg/test/\"\n",
    "BATCH_SIZE = 8\n",
    "AUTO = tf.data.experimental.AUTOTUNE\n",
    "REG = 0.0005\n",
    "EPOCHS=40\n",
    "METRICS = [\n",
    "    tf.keras.metrics.TruePositives(name='tp'),\n",
    "    tf.keras.metrics.FalsePositives(name='fp'),\n",
    "    tf.keras.metrics.TrueNegatives(name='tn'),\n",
    "    tf.keras.metrics.FalseNegatives(name='fn'), \n",
    "    tf.keras.metrics.BinaryAccuracy(name='accuracy'),\n",
    "    tf.keras.metrics.Precision(name='precision'),\n",
    "    tf.keras.metrics.Recall(name='recall'),\n",
    "    tf.keras.metrics.AUC(name='auc'),\n",
    "    tf.keras.metrics.binary_crossentropy,\n",
    "]"
   ]
  },
  {
   "cell_type": "code",
   "execution_count": 3,
   "metadata": {},
   "outputs": [],
   "source": [
    "train_df = pd.read_csv(\"train.csv\")\n",
    "test_df = pd.read_csv(\"test.csv\")"
   ]
  },
  {
   "cell_type": "code",
   "execution_count": 4,
   "metadata": {},
   "outputs": [],
   "source": [
    "train_df[\"image_name\"] = train_df[\"image_name\"].apply(lambda x: TRAIN_IMAGE_PATH + x + \".jpg\")\n",
    "test_df[\"image_name\"] = test_df[\"image_name\"].apply(lambda x: TEST_IMAGE_PATH + x + \".jpg\")"
   ]
  },
  {
   "cell_type": "code",
   "execution_count": 5,
   "metadata": {},
   "outputs": [],
   "source": [
    "train_df_target_1 = train_df[train_df[\"target\"] == 1]\n",
    "train_df_target_0 = train_df[train_df[\"target\"] == 0]"
   ]
  },
  {
   "cell_type": "code",
   "execution_count": 6,
   "metadata": {},
   "outputs": [],
   "source": [
    "del train_df"
   ]
  },
  {
   "cell_type": "code",
   "execution_count": 7,
   "metadata": {},
   "outputs": [],
   "source": [
    "random_target_0 = np.random.randint(low=1, high=train_df_target_0.shape[0], \n",
    "                                    size=train_df_target_1.shape[0])"
   ]
  },
  {
   "cell_type": "code",
   "execution_count": 8,
   "metadata": {},
   "outputs": [],
   "source": [
    "train_df_d = pd.concat([train_df_target_0.iloc[random_target_0], train_df_target_1])"
   ]
  },
  {
   "cell_type": "code",
   "execution_count": 9,
   "metadata": {},
   "outputs": [],
   "source": [
    "def decode_image(filename, label=None, image_size=(IMG_WIDTH, IMG_HEIGHT)):\n",
    "    bits = tf.io.read_file(filename)\n",
    "    image = tf.image.decode_jpeg(bits, channels=3)\n",
    "    image = tf.image.convert_image_dtype(image, tf.float32)\n",
    "    #image = tf.cast(image, tf.float32)/255.0\n",
    "    image = tf.image.resize(image, size=image_size)\n",
    "    \n",
    "    if label is None:\n",
    "        return image\n",
    "    else:\n",
    "        return image, label\n",
    "    \n",
    "def data_augment(image, label=None):\n",
    "    image = tf.image.random_flip_left_right(image)\n",
    "    image = tf.image.adjust_brightness(image, 0.2)\n",
    "    image = tf.image.rot90(image)\n",
    "    image = tf.image.central_crop(image, central_fraction=0.3)\n",
    "    if label is None:\n",
    "        return image\n",
    "    else:\n",
    "        return image, label"
   ]
  },
  {
   "cell_type": "code",
   "execution_count": 10,
   "metadata": {},
   "outputs": [],
   "source": [
    "x_train = train_df_d[[\"image_name\"]]\n",
    "y_train = train_df_d[\"target\"].astype(np.float32).values\n",
    "x_train.reset_index(drop=True, inplace=True)"
   ]
  },
  {
   "cell_type": "code",
   "execution_count": 11,
   "metadata": {},
   "outputs": [],
   "source": [
    "x_train, x_val, y_train, y_val = train_test_split(x_train, y_train, test_size=0.2, random_state=45)"
   ]
  },
  {
   "cell_type": "code",
   "execution_count": 12,
   "metadata": {},
   "outputs": [
    {
     "data": {
      "text/plain": [
       "((934, 1), (234, 1), (934,), (234,))"
      ]
     },
     "execution_count": 12,
     "metadata": {},
     "output_type": "execute_result"
    }
   ],
   "source": [
    "x_train.shape, x_val.shape, y_train.shape, y_val.shape"
   ]
  },
  {
   "cell_type": "code",
   "execution_count": 13,
   "metadata": {},
   "outputs": [],
   "source": [
    "from sklearn.utils import class_weight\n",
    "class_weights = class_weight.compute_class_weight('balanced', np.unique(y_train), y_train)"
   ]
  },
  {
   "cell_type": "code",
   "execution_count": 14,
   "metadata": {},
   "outputs": [
    {
     "data": {
      "text/plain": [
       "array([0.96887967, 1.03318584])"
      ]
     },
     "execution_count": 14,
     "metadata": {},
     "output_type": "execute_result"
    }
   ],
   "source": [
    "class_weights"
   ]
  },
  {
   "cell_type": "code",
   "execution_count": 15,
   "metadata": {
    "scrolled": true
   },
   "outputs": [],
   "source": [
    "train_dataset = (tf.data.Dataset\n",
    "                 .from_tensor_slices((x_train[\"image_name\"].values, y_train))\n",
    "                 .map(decode_image, num_parallel_calls=AUTO)\n",
    "                 .repeat()\n",
    "                 .shuffle(512)\n",
    "                 .batch(BATCH_SIZE)\n",
    "                 .prefetch(AUTO)\n",
    "                )"
   ]
  },
  {
   "cell_type": "code",
   "execution_count": 16,
   "metadata": {},
   "outputs": [],
   "source": [
    "val_dataset = (tf.data.Dataset\n",
    "               .from_tensor_slices((x_val[\"image_name\"].values, y_val))\n",
    "               .map(decode_image, num_parallel_calls=AUTO)\n",
    "               .repeat()\n",
    "               .shuffle(512)\n",
    "               .batch(BATCH_SIZE)\n",
    "               .prefetch(AUTO))"
   ]
  },
  {
   "cell_type": "code",
   "execution_count": 17,
   "metadata": {},
   "outputs": [],
   "source": [
    "test_dataset = (tf.data.Dataset.from_tensor_slices((test_df.image_name))\n",
    "                .map(decode_image, num_parallel_calls=AUTO)\n",
    "                .cache()\n",
    "                .batch(BATCH_SIZE))"
   ]
  },
  {
   "cell_type": "code",
   "execution_count": 18,
   "metadata": {},
   "outputs": [],
   "source": [
    "lr = ReduceLROnPlateau(\n",
    "    monitor=\"val_loss\",\n",
    "    patience=4,\n",
    "    min_lr=0.000001,\n",
    "    factor=0.5,\n",
    "    verbose=1\n",
    ")"
   ]
  },
  {
   "cell_type": "code",
   "execution_count": 19,
   "metadata": {},
   "outputs": [],
   "source": [
    "es = EarlyStopping(monitor=\"val_loss\", patience=10)"
   ]
  },
  {
   "cell_type": "code",
   "execution_count": 20,
   "metadata": {},
   "outputs": [],
   "source": [
    "model_chkpt = ModelCheckpoint(filepath=\"best_model.h5\")"
   ]
  },
  {
   "cell_type": "code",
   "execution_count": 21,
   "metadata": {},
   "outputs": [],
   "source": [
    "def get_crop_shape(target, refer):\n",
    "        # width, the 3rd dimension\n",
    "        print(\"target: {} {}, refer: {} {}\".format(target, target.get_shape(), refer, refer.get_shape()))\n",
    "        cw = (target.get_shape()[2] - refer.get_shape()[2])\n",
    "        assert (cw >= 0)\n",
    "        if cw % 2 != 0:\n",
    "            cw1, cw2 = int(cw/2), int(cw/2) + 1\n",
    "        else:\n",
    "            cw1, cw2 = int(cw/2), int(cw/2)\n",
    "        # height, the 2nd dimension\n",
    "        ch = (target.get_shape()[1] - refer.get_shape()[1])\n",
    "        assert (ch >= 0)\n",
    "        if ch % 2 != 0:\n",
    "            ch1, ch2 = int(ch/2), int(ch/2) + 1\n",
    "        else:\n",
    "            ch1, ch2 = int(ch/2), int(ch/2)\n",
    "\n",
    "        return (ch1, ch2), (cw1, cw2)"
   ]
  },
  {
   "cell_type": "code",
   "execution_count": 22,
   "metadata": {},
   "outputs": [],
   "source": [
    "def dice_loss(y_true, y_pred):\n",
    "    numerator = 2 * tf.reduce_sum(y_true * y_pred, axis=-1)\n",
    "    denominator = tf.reduce_sum(y_true + y_pred, axis=-1)\n",
    "    return 1 - (numerator + 1) / (denominator + 1)"
   ]
  },
  {
   "cell_type": "code",
   "execution_count": 23,
   "metadata": {},
   "outputs": [],
   "source": [
    "def model_unet(input_layer, expansion_filters=64, expansion_kernel=(3,3), expansion_pool_size=(2,2),\n",
    "          contract_filters=64, contract_kernel=(3,3), contract_pool_size=(2,2)):\n",
    "    \n",
    "    #64\n",
    "    lvl_1 = Conv2D(filters=expansion_filters*(2**0), kernel_size=expansion_kernel, activation=\"relu\", padding=\"same\")(input_layer)\n",
    "    lvl_1 = Conv2D(filters=expansion_filters*(2**0), kernel_size=expansion_kernel, activation=\"relu\", padding=\"same\")(lvl_1)\n",
    "    mp_lvl_1 = MaxPooling2D(expansion_pool_size)(lvl_1)\n",
    "    mp_lvl_1 = Dropout(0.25)(mp_lvl_1)\n",
    "    \n",
    "    #128\n",
    "    lvl_2 = Conv2D(filters=expansion_filters*(2**1), kernel_size=expansion_kernel, activation=\"relu\", padding=\"same\")(mp_lvl_1)\n",
    "    lvl_2 = Conv2D(filters=expansion_filters*(2**1), kernel_size=expansion_kernel, activation=\"relu\", padding=\"same\")(lvl_2)\n",
    "    mp_lvl_2 = MaxPooling2D(expansion_pool_size)(lvl_2)\n",
    "    mp_lvl_2 = Dropout(0.25)(mp_lvl_2)\n",
    "    \n",
    "    #256\n",
    "    lvl_3 = Conv2D(filters=expansion_filters*(2**2), kernel_size=expansion_kernel, activation=\"relu\", padding=\"same\")(mp_lvl_2)\n",
    "    lvl_3 = Conv2D(filters=expansion_filters*(2**2), kernel_size=expansion_kernel, activation=\"relu\", padding=\"same\")(lvl_3)\n",
    "    mp_lvl_3 = MaxPooling2D(expansion_pool_size)(lvl_3)\n",
    "    mp_lvl_3 = Dropout(0.25)(mp_lvl_3)\n",
    "    \n",
    "    #512\n",
    "    lvl_4 = Conv2D(filters=expansion_filters*(2**3), kernel_size=expansion_kernel, activation=\"relu\", padding=\"same\")(mp_lvl_3)\n",
    "    lvl_4 = Conv2D(filters=expansion_filters*(2**3), kernel_size=expansion_kernel, activation=\"relu\", padding=\"same\")(lvl_4)\n",
    "    mp_lvl_4 = MaxPooling2D(expansion_pool_size)(lvl_4)\n",
    "    mp_lvl_4 = Dropout(0.25)(mp_lvl_4)\n",
    "    \n",
    "    #1024\n",
    "    lvl_5 = Conv2D(filters=expansion_filters*(2**4), kernel_size=expansion_kernel, activation=\"relu\", padding=\"same\")(mp_lvl_4)\n",
    "    lvl_5 = Conv2D(filters=expansion_filters*(2**4), kernel_size=expansion_kernel, activation=\"relu\", padding=\"same\")(lvl_5)\n",
    "    mp_lvl_5 = MaxPooling2D(expansion_pool_size)(lvl_5)\n",
    "    mp_lvl_5 = Dropout(0.25)(mp_lvl_5)\n",
    "    \n",
    "    #\n",
    "    lvl_6 = Conv2D(filters=expansion_filters*(2**5), kernel_size=expansion_kernel, activation=\"relu\", padding=\"same\")(mp_lvl_5)\n",
    "    lvl_6 = Conv2D(filters=expansion_filters*(2**5), kernel_size=expansion_kernel, activation=\"relu\", padding=\"same\")(lvl_6)\n",
    "    \n",
    "    d_lvl_5 = UpSampling2D(size=contract_pool_size, data_format=\"channels_last\")(lvl_6)\n",
    "    ch, cw = get_crop_shape(lvl_5, d_lvl_5)\n",
    "    ccon_5 = Cropping2D(cropping=(ch, cw), data_format=\"channels_last\")(lvl_5)\n",
    "    ucon_5 = concatenate([d_lvl_5, ccon_5])\n",
    "    ucon_5 = Dropout(0.25)(ucon_5)\n",
    "    ucon_5 = Conv2D(filters=contract_filters*(2**4), kernel_size=contract_kernel, activation=\"relu\", padding=\"same\")(ucon_5)\n",
    "    ucon_5 = Conv2D(filters=contract_filters*(2**4), kernel_size=contract_kernel, activation=\"relu\", padding=\"same\")(ucon_5)\n",
    "    \n",
    "    #d_lvl_4 = Conv2DTranspose(filters=contract_filters*4, kernel_size=contract_kernel, activation=\"relu\", padding=\"same\")(lvl_5)\n",
    "    d_lvl_4 = UpSampling2D(size=contract_pool_size, data_format=\"channels_last\")(lvl_5)\n",
    "    ch, cw = get_crop_shape(lvl_4, d_lvl_4)\n",
    "    ccon_4 = Cropping2D(cropping=(ch, cw), data_format=\"channels_last\")(lvl_4)\n",
    "    ucon_4 = concatenate([d_lvl_4, ccon_4])\n",
    "    ucon_4 = Dropout(0.25)(ucon_4)\n",
    "    ucon_4 = Conv2D(filters=contract_filters*(2**3), kernel_size=contract_kernel, activation=\"relu\", padding=\"same\")(ucon_4)\n",
    "    ucon_4 = Conv2D(filters=contract_filters*(2**3), kernel_size=contract_kernel, activation=\"relu\", padding=\"same\")(ucon_4)\n",
    "    \n",
    "    #d_lvl_3 = Conv2DTranspose(filters=contract_filters*3, kernel_size=contract_kernel, activation=\"relu\", padding=\"same\")(ucon_4)\n",
    "    d_lvl_3 = UpSampling2D(size=contract_pool_size, data_format=\"channels_last\")(ucon_4)\n",
    "    ch, cw = get_crop_shape(lvl_3, d_lvl_3)\n",
    "    ccon_3 = Cropping2D(cropping=(ch, cw), data_format=\"channels_last\")(lvl_3)\n",
    "    ucon_3 = concatenate([d_lvl_3, ccon_3])\n",
    "    ucon_3 = Dropout(0.25)(ucon_3)\n",
    "    ucon_3 = Conv2D(filters=contract_filters*(2**2), kernel_size=contract_kernel, activation=\"relu\", padding=\"same\")(ucon_3)\n",
    "    ucon_3 = Conv2D(filters=contract_filters*(2**2), kernel_size=contract_kernel, activation=\"relu\", padding=\"same\")(ucon_3)\n",
    "    \n",
    "    #d_lvl_2 = Conv2DTranspose(filters=contract_filters*2, kernel_size=contract_kernel, activation=\"relu\", padding=\"same\")(ucon_3)\n",
    "    d_lvl_2 = UpSampling2D(size=contract_pool_size, data_format=\"channels_last\")(ucon_3)\n",
    "    ch, cw = get_crop_shape(lvl_2, d_lvl_2)\n",
    "    ccon_2 = Cropping2D(cropping=(ch, cw), data_format=\"channels_last\")(lvl_2)\n",
    "    ucon_2 = concatenate([d_lvl_2, ccon_2])\n",
    "    ucon_2 = Dropout(0.25)(ucon_2)\n",
    "    ucon_2 = Conv2D(filters=contract_filters*(2**1), kernel_size=contract_kernel, activation=\"relu\", padding=\"same\")(ucon_2)\n",
    "    ucon_2 = Conv2D(filters=contract_filters*(2**1), kernel_size=contract_kernel, activation=\"relu\", padding=\"same\")(ucon_2)\n",
    "    \n",
    "    #d_lvl_1 = Conv2DTranspose(filters=contract_filters*1, kernel_size=contract_kernel, activation=\"relu\", padding=\"same\")(ucon_2)\n",
    "    d_lvl_1 = UpSampling2D(size=contract_pool_size, data_format=\"channels_last\")(ucon_2)\n",
    "    ch, cw = get_crop_shape(lvl_1, d_lvl_1)\n",
    "    ccon_1 = Cropping2D(cropping=(ch, cw), data_format=\"channels_last\")(lvl_1)\n",
    "    ucon_1 = concatenate([d_lvl_1, ccon_1])\n",
    "    ucon_1 = Dropout(0.25)(ucon_1)\n",
    "    ucon_1 = Conv2D(filters=contract_filters*(2**0), kernel_size=contract_kernel, activation=\"relu\", padding=\"same\")(ucon_1)\n",
    "    ucon_1 = Conv2D(filters=contract_filters*(2**0), kernel_size=contract_kernel, activation=\"relu\", padding=\"same\")(ucon_1)\n",
    "    \n",
    "    output = Conv2D(filters=1, kernel_size=(1,1), activation=\"relu\", padding=\"same\")(ucon_1)\n",
    "    \n",
    "    flatten = Flatten()(output)\n",
    "    dense4 = Dense(512, activation='relu')(flatten)\n",
    "    bn4 = BatchNormalization()(dense4)\n",
    "    dense3 = Dense(256, activation='relu')(bn4)\n",
    "    bn3 = BatchNormalization()(dense3)\n",
    "    dense2 = Dense(128, activation='relu')(bn3)\n",
    "    bn2 = BatchNormalization()(dense2)\n",
    "    dense1 = Dense(1, activation=\"sigmoid\")(bn2)\n",
    "    model = Model(inputs=input_layer, outputs=dense1)\n",
    "    return model\n",
    "    \n",
    "    \n",
    "     \n",
    "\n",
    "input_layer = Input((IMG_HEIGHT, IMG_WIDTH, 3))"
   ]
  },
  {
   "cell_type": "code",
   "execution_count": 24,
   "metadata": {
    "scrolled": true
   },
   "outputs": [
    {
     "name": "stdout",
     "output_type": "stream",
     "text": [
      "target: Tensor(\"conv2d_9/Identity:0\", shape=(None, 18, 18, 256), dtype=float32) (None, 18, 18, 256), refer: Tensor(\"up_sampling2d/Identity:0\", shape=(None, 18, 18, 512), dtype=float32) (None, 18, 18, 512)\n",
      "target: Tensor(\"conv2d_7/Identity:0\", shape=(None, 37, 37, 128), dtype=float32) (None, 37, 37, 128), refer: Tensor(\"up_sampling2d_1/Identity:0\", shape=(None, 36, 36, 256), dtype=float32) (None, 36, 36, 256)\n",
      "target: Tensor(\"conv2d_5/Identity:0\", shape=(None, 75, 75, 64), dtype=float32) (None, 75, 75, 64), refer: Tensor(\"up_sampling2d_2/Identity:0\", shape=(None, 72, 72, 512), dtype=float32) (None, 72, 72, 512)\n",
      "target: Tensor(\"conv2d_3/Identity:0\", shape=(None, 150, 150, 32), dtype=float32) (None, 150, 150, 32), refer: Tensor(\"up_sampling2d_3/Identity:0\", shape=(None, 144, 144, 256), dtype=float32) (None, 144, 144, 256)\n",
      "target: Tensor(\"conv2d_1/Identity:0\", shape=(None, 300, 300, 16), dtype=float32) (None, 300, 300, 16), refer: Tensor(\"up_sampling2d_4/Identity:0\", shape=(None, 288, 288, 128), dtype=float32) (None, 288, 288, 128)\n",
      "Model: \"model\"\n",
      "__________________________________________________________________________________________________\n",
      "Layer (type)                    Output Shape         Param #     Connected to                     \n",
      "==================================================================================================\n",
      "input_1 (InputLayer)            [(None, 300, 300, 3) 0                                            \n",
      "__________________________________________________________________________________________________\n",
      "conv2d (Conv2D)                 (None, 300, 300, 16) 448         input_1[0][0]                    \n",
      "__________________________________________________________________________________________________\n",
      "conv2d_1 (Conv2D)               (None, 300, 300, 16) 2320        conv2d[0][0]                     \n",
      "__________________________________________________________________________________________________\n",
      "max_pooling2d (MaxPooling2D)    (None, 150, 150, 16) 0           conv2d_1[0][0]                   \n",
      "__________________________________________________________________________________________________\n",
      "dropout (Dropout)               (None, 150, 150, 16) 0           max_pooling2d[0][0]              \n",
      "__________________________________________________________________________________________________\n",
      "conv2d_2 (Conv2D)               (None, 150, 150, 32) 4640        dropout[0][0]                    \n",
      "__________________________________________________________________________________________________\n",
      "conv2d_3 (Conv2D)               (None, 150, 150, 32) 9248        conv2d_2[0][0]                   \n",
      "__________________________________________________________________________________________________\n",
      "max_pooling2d_1 (MaxPooling2D)  (None, 75, 75, 32)   0           conv2d_3[0][0]                   \n",
      "__________________________________________________________________________________________________\n",
      "dropout_1 (Dropout)             (None, 75, 75, 32)   0           max_pooling2d_1[0][0]            \n",
      "__________________________________________________________________________________________________\n",
      "conv2d_4 (Conv2D)               (None, 75, 75, 64)   18496       dropout_1[0][0]                  \n",
      "__________________________________________________________________________________________________\n",
      "conv2d_5 (Conv2D)               (None, 75, 75, 64)   36928       conv2d_4[0][0]                   \n",
      "__________________________________________________________________________________________________\n",
      "max_pooling2d_2 (MaxPooling2D)  (None, 37, 37, 64)   0           conv2d_5[0][0]                   \n",
      "__________________________________________________________________________________________________\n",
      "dropout_2 (Dropout)             (None, 37, 37, 64)   0           max_pooling2d_2[0][0]            \n",
      "__________________________________________________________________________________________________\n",
      "conv2d_6 (Conv2D)               (None, 37, 37, 128)  73856       dropout_2[0][0]                  \n",
      "__________________________________________________________________________________________________\n",
      "conv2d_7 (Conv2D)               (None, 37, 37, 128)  147584      conv2d_6[0][0]                   \n",
      "__________________________________________________________________________________________________\n",
      "max_pooling2d_3 (MaxPooling2D)  (None, 18, 18, 128)  0           conv2d_7[0][0]                   \n",
      "__________________________________________________________________________________________________\n",
      "dropout_3 (Dropout)             (None, 18, 18, 128)  0           max_pooling2d_3[0][0]            \n",
      "__________________________________________________________________________________________________\n",
      "conv2d_8 (Conv2D)               (None, 18, 18, 256)  295168      dropout_3[0][0]                  \n",
      "__________________________________________________________________________________________________\n",
      "conv2d_9 (Conv2D)               (None, 18, 18, 256)  590080      conv2d_8[0][0]                   \n",
      "__________________________________________________________________________________________________\n",
      "up_sampling2d_1 (UpSampling2D)  (None, 36, 36, 256)  0           conv2d_9[0][0]                   \n",
      "__________________________________________________________________________________________________\n",
      "cropping2d_1 (Cropping2D)       (None, 36, 36, 128)  0           conv2d_7[0][0]                   \n",
      "__________________________________________________________________________________________________\n",
      "concatenate_1 (Concatenate)     (None, 36, 36, 384)  0           up_sampling2d_1[0][0]            \n",
      "                                                                 cropping2d_1[0][0]               \n",
      "__________________________________________________________________________________________________\n",
      "dropout_6 (Dropout)             (None, 36, 36, 384)  0           concatenate_1[0][0]              \n",
      "__________________________________________________________________________________________________\n",
      "conv2d_14 (Conv2D)              (None, 36, 36, 512)  1769984     dropout_6[0][0]                  \n",
      "__________________________________________________________________________________________________\n",
      "conv2d_15 (Conv2D)              (None, 36, 36, 512)  2359808     conv2d_14[0][0]                  \n",
      "__________________________________________________________________________________________________\n",
      "up_sampling2d_2 (UpSampling2D)  (None, 72, 72, 512)  0           conv2d_15[0][0]                  \n",
      "__________________________________________________________________________________________________\n",
      "cropping2d_2 (Cropping2D)       (None, 72, 72, 64)   0           conv2d_5[0][0]                   \n",
      "__________________________________________________________________________________________________\n",
      "concatenate_2 (Concatenate)     (None, 72, 72, 576)  0           up_sampling2d_2[0][0]            \n",
      "                                                                 cropping2d_2[0][0]               \n",
      "__________________________________________________________________________________________________\n",
      "dropout_7 (Dropout)             (None, 72, 72, 576)  0           concatenate_2[0][0]              \n",
      "__________________________________________________________________________________________________\n",
      "conv2d_16 (Conv2D)              (None, 72, 72, 256)  1327360     dropout_7[0][0]                  \n",
      "__________________________________________________________________________________________________\n",
      "conv2d_17 (Conv2D)              (None, 72, 72, 256)  590080      conv2d_16[0][0]                  \n",
      "__________________________________________________________________________________________________\n",
      "up_sampling2d_3 (UpSampling2D)  (None, 144, 144, 256 0           conv2d_17[0][0]                  \n",
      "__________________________________________________________________________________________________\n",
      "cropping2d_3 (Cropping2D)       (None, 144, 144, 32) 0           conv2d_3[0][0]                   \n",
      "__________________________________________________________________________________________________\n",
      "concatenate_3 (Concatenate)     (None, 144, 144, 288 0           up_sampling2d_3[0][0]            \n",
      "                                                                 cropping2d_3[0][0]               \n",
      "__________________________________________________________________________________________________\n",
      "dropout_8 (Dropout)             (None, 144, 144, 288 0           concatenate_3[0][0]              \n",
      "__________________________________________________________________________________________________\n",
      "conv2d_18 (Conv2D)              (None, 144, 144, 128 331904      dropout_8[0][0]                  \n",
      "__________________________________________________________________________________________________\n",
      "conv2d_19 (Conv2D)              (None, 144, 144, 128 147584      conv2d_18[0][0]                  \n",
      "__________________________________________________________________________________________________\n",
      "up_sampling2d_4 (UpSampling2D)  (None, 288, 288, 128 0           conv2d_19[0][0]                  \n",
      "__________________________________________________________________________________________________\n",
      "cropping2d_4 (Cropping2D)       (None, 288, 288, 16) 0           conv2d_1[0][0]                   \n",
      "__________________________________________________________________________________________________\n",
      "concatenate_4 (Concatenate)     (None, 288, 288, 144 0           up_sampling2d_4[0][0]            \n",
      "                                                                 cropping2d_4[0][0]               \n",
      "__________________________________________________________________________________________________\n",
      "dropout_9 (Dropout)             (None, 288, 288, 144 0           concatenate_4[0][0]              \n",
      "__________________________________________________________________________________________________\n",
      "conv2d_20 (Conv2D)              (None, 288, 288, 64) 83008       dropout_9[0][0]                  \n",
      "__________________________________________________________________________________________________\n",
      "conv2d_21 (Conv2D)              (None, 288, 288, 64) 36928       conv2d_20[0][0]                  \n",
      "__________________________________________________________________________________________________\n",
      "conv2d_22 (Conv2D)              (None, 288, 288, 1)  65          conv2d_21[0][0]                  \n",
      "__________________________________________________________________________________________________\n",
      "flatten (Flatten)               (None, 82944)        0           conv2d_22[0][0]                  \n",
      "__________________________________________________________________________________________________\n",
      "dense (Dense)                   (None, 512)          42467840    flatten[0][0]                    \n",
      "__________________________________________________________________________________________________\n",
      "batch_normalization (BatchNorma (None, 512)          2048        dense[0][0]                      \n",
      "__________________________________________________________________________________________________\n",
      "dense_1 (Dense)                 (None, 256)          131328      batch_normalization[0][0]        \n",
      "__________________________________________________________________________________________________\n",
      "batch_normalization_1 (BatchNor (None, 256)          1024        dense_1[0][0]                    \n",
      "__________________________________________________________________________________________________\n",
      "dense_2 (Dense)                 (None, 128)          32896       batch_normalization_1[0][0]      \n",
      "__________________________________________________________________________________________________\n",
      "batch_normalization_2 (BatchNor (None, 128)          512         dense_2[0][0]                    \n",
      "__________________________________________________________________________________________________\n",
      "dense_3 (Dense)                 (None, 1)            129         batch_normalization_2[0][0]      \n",
      "==================================================================================================\n",
      "Total params: 50,461,266\n",
      "Trainable params: 50,459,474\n",
      "Non-trainable params: 1,792\n",
      "__________________________________________________________________________________________________\n"
     ]
    }
   ],
   "source": [
    "model = model_unet(input_layer, expansion_filters=16)\n",
    "model.summary()"
   ]
  },
  {
   "cell_type": "code",
   "execution_count": 25,
   "metadata": {},
   "outputs": [
    {
     "data": {
      "text/plain": [
       "<tensorflow.python.keras.engine.training.Model at 0x1c2fb70cdc8>"
      ]
     },
     "execution_count": 25,
     "metadata": {},
     "output_type": "execute_result"
    }
   ],
   "source": [
    "model"
   ]
  },
  {
   "cell_type": "code",
   "execution_count": 26,
   "metadata": {},
   "outputs": [],
   "source": [
    "model.compile(optimizer=tf.keras.optimizers.Adam(learning_rate=0.0001), loss=dice_loss, metrics=METRICS)"
   ]
  },
  {
   "cell_type": "code",
   "execution_count": 27,
   "metadata": {
    "scrolled": true
   },
   "outputs": [
    {
     "name": "stdout",
     "output_type": "stream",
     "text": [
      "Train for 116 steps, validate for 29 steps\n",
      "Epoch 1/40\n",
      "116/116 [==============================] - 177s 2s/step - loss: 0.2128 - tp: 277.0000 - fp: 193.0000 - tn: 285.0000 - fn: 173.0000 - accuracy: 0.6056 - precision: 0.5894 - recall: 0.6156 - auc: 0.6553 - binary_crossentropy: 0.9850 - val_loss: 0.2311 - val_tp: 124.0000 - val_fp: 99.0000 - val_tn: 4.0000 - val_fn: 5.0000 - val_accuracy: 0.5517 - val_precision: 0.5561 - val_recall: 0.9612 - val_auc: 0.5688 - val_binary_crossentropy: 0.9129\n",
      "Epoch 2/40\n",
      "116/116 [==============================] - 133s 1s/step - loss: 0.1947 - tp: 282.0000 - fp: 182.0000 - tn: 305.0000 - fn: 159.0000 - accuracy: 0.6325 - precision: 0.6078 - recall: 0.6395 - auc: 0.6842 - binary_crossentropy: 1.1656 - val_loss: 0.2139 - val_tp: 79.0000 - val_fp: 35.0000 - val_tn: 62.0000 - val_fn: 56.0000 - val_accuracy: 0.6078 - val_precision: 0.6930 - val_recall: 0.5852 - val_auc: 0.6418 - val_binary_crossentropy: 0.8432\n",
      "Epoch 3/40\n",
      "116/116 [==============================] - 130s 1s/step - loss: 0.1777 - tp: 296.0000 - fp: 156.0000 - tn: 316.0000 - fn: 160.0000 - accuracy: 0.6595 - precision: 0.6549 - recall: 0.6491 - auc: 0.7151 - binary_crossentropy: 1.2134 - val_loss: 0.2545 - val_tp: 28.0000 - val_fp: 11.0000 - val_tn: 80.0000 - val_fn: 113.0000 - val_accuracy: 0.4655 - val_precision: 0.7179 - val_recall: 0.1986 - val_auc: 0.6850 - val_binary_crossentropy: 1.2463\n",
      "Epoch 4/40\n",
      "116/116 [==============================] - 130s 1s/step - loss: 0.1677 - tp: 309.0000 - fp: 168.0000 - tn: 327.0000 - fn: 124.0000 - accuracy: 0.6853 - precision: 0.6478 - recall: 0.7136 - auc: 0.7475 - binary_crossentropy: 1.1202 - val_loss: 0.1874 - val_tp: 71.0000 - val_fp: 24.0000 - val_tn: 78.0000 - val_fn: 59.0000 - val_accuracy: 0.6422 - val_precision: 0.7474 - val_recall: 0.5462 - val_auc: 0.7068 - val_binary_crossentropy: 1.8121\n",
      "Epoch 5/40\n",
      "116/116 [==============================] - 131s 1s/step - loss: 0.1710 - tp: 319.0000 - fp: 159.0000 - tn: 311.0000 - fn: 139.0000 - accuracy: 0.6789 - precision: 0.6674 - recall: 0.6965 - auc: 0.7254 - binary_crossentropy: 1.2623 - val_loss: 0.2042 - val_tp: 40.0000 - val_fp: 16.0000 - val_tn: 84.0000 - val_fn: 92.0000 - val_accuracy: 0.5345 - val_precision: 0.7143 - val_recall: 0.3030 - val_auc: 0.7719 - val_binary_crossentropy: 1.2784\n",
      "Epoch 6/40\n",
      "116/116 [==============================] - 131s 1s/step - loss: 0.1569 - tp: 338.0000 - fp: 155.0000 - tn: 322.0000 - fn: 113.0000 - accuracy: 0.7112 - precision: 0.6856 - recall: 0.7494 - auc: 0.7579 - binary_crossentropy: 1.1487 - val_loss: 0.2952 - val_tp: 0.0000e+00 - val_fp: 0.0000e+00 - val_tn: 95.0000 - val_fn: 137.0000 - val_accuracy: 0.4095 - val_precision: 0.0000e+00 - val_recall: 0.0000e+00 - val_auc: 0.5000 - val_binary_crossentropy: 6.9376\n",
      "Epoch 7/40\n",
      "116/116 [==============================] - 132s 1s/step - loss: 0.1747 - tp: 304.0000 - fp: 158.0000 - tn: 310.0000 - fn: 156.0000 - accuracy: 0.6616 - precision: 0.6580 - recall: 0.6609 - auc: 0.6793 - binary_crossentropy: 1.8975 - val_loss: 0.3024 - val_tp: 2.0000 - val_fp: 0.0000e+00 - val_tn: 90.0000 - val_fn: 140.0000 - val_accuracy: 0.3966 - val_precision: 1.0000 - val_recall: 0.0141 - val_auc: 0.5207 - val_binary_crossentropy: 7.2826\n",
      "Epoch 8/40\n",
      "115/116 [============================>.] - ETA: 0s - loss: 0.1759 - tp: 292.0000 - fp: 172.0000 - tn: 315.0000 - fn: 141.0000 - accuracy: 0.6598 - precision: 0.6293 - recall: 0.6744 - auc: 0.6849 - binary_crossentropy: 1.8449\n",
      "Epoch 00008: ReduceLROnPlateau reducing learning rate to 4.999999873689376e-05.\n",
      "116/116 [==============================] - 128s 1s/step - loss: 0.1755 - tp: 296.0000 - fp: 172.0000 - tn: 317.0000 - fn: 143.0000 - accuracy: 0.6606 - precision: 0.6325 - recall: 0.6743 - auc: 0.6865 - binary_crossentropy: 1.8381 - val_loss: 0.2582 - val_tp: 9.0000 - val_fp: 2.0000 - val_tn: 103.0000 - val_fn: 118.0000 - val_accuracy: 0.4828 - val_precision: 0.8182 - val_recall: 0.0709 - val_auc: 0.5729 - val_binary_crossentropy: 4.4764\n",
      "Epoch 9/40\n",
      "116/116 [==============================] - 127s 1s/step - loss: 0.1737 - tp: 288.0000 - fp: 144.0000 - tn: 330.0000 - fn: 166.0000 - accuracy: 0.6659 - precision: 0.6667 - recall: 0.6344 - auc: 0.6887 - binary_crossentropy: 1.9248 - val_loss: 0.2451 - val_tp: 29.0000 - val_fp: 12.0000 - val_tn: 90.0000 - val_fn: 101.0000 - val_accuracy: 0.5129 - val_precision: 0.7073 - val_recall: 0.2231 - val_auc: 0.5806 - val_binary_crossentropy: 5.4229\n",
      "Epoch 10/40\n",
      "116/116 [==============================] - 128s 1s/step - loss: 0.1652 - tp: 303.0000 - fp: 151.0000 - tn: 328.0000 - fn: 146.0000 - accuracy: 0.6800 - precision: 0.6674 - recall: 0.6748 - auc: 0.7135 - binary_crossentropy: 1.9241 - val_loss: 0.2322 - val_tp: 124.0000 - val_fp: 108.0000 - val_tn: 0.0000e+00 - val_fn: 0.0000e+00 - val_accuracy: 0.5345 - val_precision: 0.5345 - val_recall: 1.0000 - val_auc: 0.5093 - val_binary_crossentropy: 4.4853\n",
      "Epoch 11/40\n",
      "116/116 [==============================] - 129s 1s/step - loss: 0.1665 - tp: 303.0000 - fp: 160.0000 - tn: 324.0000 - fn: 141.0000 - accuracy: 0.6756 - precision: 0.6544 - recall: 0.6824 - auc: 0.7098 - binary_crossentropy: 2.0131 - val_loss: 0.2500 - val_tp: 116.0000 - val_fp: 116.0000 - val_tn: 0.0000e+00 - val_fn: 0.0000e+00 - val_accuracy: 0.5000 - val_precision: 0.5000 - val_recall: 1.0000 - val_auc: 0.5000 - val_binary_crossentropy: 6.3854\n",
      "Epoch 12/40\n",
      "115/116 [============================>.] - ETA: 0s - loss: 0.1604 - tp: 304.0000 - fp: 153.0000 - tn: 327.0000 - fn: 136.0000 - accuracy: 0.6859 - precision: 0.6652 - recall: 0.6909 - auc: 0.6969 - binary_crossentropy: 2.0692\n",
      "Epoch 00012: ReduceLROnPlateau reducing learning rate to 2.499999936844688e-05.\n",
      "116/116 [==============================] - 140s 1s/step - loss: 0.1590 - tp: 308.0000 - fp: 153.0000 - tn: 331.0000 - fn: 136.0000 - accuracy: 0.6886 - precision: 0.6681 - recall: 0.6937 - auc: 0.7000 - binary_crossentropy: 2.0514 - val_loss: 0.2242 - val_tp: 128.0000 - val_fp: 104.0000 - val_tn: 0.0000e+00 - val_fn: 0.0000e+00 - val_accuracy: 0.5517 - val_precision: 0.5517 - val_recall: 1.0000 - val_auc: 0.5174 - val_binary_crossentropy: 3.7012\n",
      "Epoch 13/40\n",
      "116/116 [==============================] - 129s 1s/step - loss: 0.1688 - tp: 318.0000 - fp: 176.0000 - tn: 302.0000 - fn: 132.0000 - accuracy: 0.6681 - precision: 0.6437 - recall: 0.7067 - auc: 0.7058 - binary_crossentropy: 2.0152 - val_loss: 0.2220 - val_tp: 129.0000 - val_fp: 103.0000 - val_tn: 0.0000e+00 - val_fn: 0.0000e+00 - val_accuracy: 0.5560 - val_precision: 0.5560 - val_recall: 1.0000 - val_auc: 0.5000 - val_binary_crossentropy: 4.5230\n",
      "Epoch 14/40\n",
      "116/116 [==============================] - 126s 1s/step - loss: 0.1504 - tp: 337.0000 - fp: 159.0000 - tn: 315.0000 - fn: 117.0000 - accuracy: 0.7026 - precision: 0.6794 - recall: 0.7423 - auc: 0.7280 - binary_crossentropy: 1.8262 - val_loss: 0.2069 - val_tp: 136.0000 - val_fp: 96.0000 - val_tn: 0.0000e+00 - val_fn: 0.0000e+00 - val_accuracy: 0.5862 - val_precision: 0.5862 - val_recall: 1.0000 - val_auc: 0.5000 - val_binary_crossentropy: 4.4907\n"
     ]
    }
   ],
   "source": [
    "history = model.fit(train_dataset, epochs=EPOCHS, callbacks=[lr, es, model_chkpt],\n",
    "                        steps_per_epoch=x_train.shape[0]//BATCH_SIZE, validation_data=val_dataset,\n",
    "                        validation_steps=x_val.shape[0]//BATCH_SIZE,\n",
    "                        class_weight = class_weights)"
   ]
  },
  {
   "cell_type": "code",
   "execution_count": 28,
   "metadata": {},
   "outputs": [
    {
     "data": {
      "text/plain": [
       "<tensorflow.python.keras.callbacks.History at 0x1c2fcae4b08>"
      ]
     },
     "execution_count": 28,
     "metadata": {},
     "output_type": "execute_result"
    }
   ],
   "source": [
    "history"
   ]
  },
  {
   "cell_type": "code",
   "execution_count": 29,
   "metadata": {},
   "outputs": [],
   "source": [
    "pred = model.predict(test_dataset)"
   ]
  },
  {
   "cell_type": "code",
   "execution_count": 30,
   "metadata": {},
   "outputs": [
    {
     "data": {
      "text/plain": [
       "array([[0.999987  ],\n",
       "       [0.9999882 ],\n",
       "       [0.99998844],\n",
       "       ...,\n",
       "       [0.9999567 ],\n",
       "       [0.9999752 ],\n",
       "       [0.9998963 ]], dtype=float32)"
      ]
     },
     "execution_count": 30,
     "metadata": {},
     "output_type": "execute_result"
    }
   ],
   "source": [
    "pred"
   ]
  },
  {
   "cell_type": "code",
   "execution_count": 31,
   "metadata": {},
   "outputs": [],
   "source": [
    "sam = pd.read_csv(\"sample_submission.csv\")"
   ]
  },
  {
   "cell_type": "code",
   "execution_count": 32,
   "metadata": {},
   "outputs": [
    {
     "data": {
      "text/html": [
       "<div>\n",
       "<style scoped>\n",
       "    .dataframe tbody tr th:only-of-type {\n",
       "        vertical-align: middle;\n",
       "    }\n",
       "\n",
       "    .dataframe tbody tr th {\n",
       "        vertical-align: top;\n",
       "    }\n",
       "\n",
       "    .dataframe thead th {\n",
       "        text-align: right;\n",
       "    }\n",
       "</style>\n",
       "<table border=\"1\" class=\"dataframe\">\n",
       "  <thead>\n",
       "    <tr style=\"text-align: right;\">\n",
       "      <th></th>\n",
       "      <th>image_name</th>\n",
       "      <th>target</th>\n",
       "    </tr>\n",
       "  </thead>\n",
       "  <tbody>\n",
       "    <tr>\n",
       "      <th>0</th>\n",
       "      <td>ISIC_0052060</td>\n",
       "      <td>0</td>\n",
       "    </tr>\n",
       "    <tr>\n",
       "      <th>1</th>\n",
       "      <td>ISIC_0052349</td>\n",
       "      <td>0</td>\n",
       "    </tr>\n",
       "    <tr>\n",
       "      <th>2</th>\n",
       "      <td>ISIC_0058510</td>\n",
       "      <td>0</td>\n",
       "    </tr>\n",
       "    <tr>\n",
       "      <th>3</th>\n",
       "      <td>ISIC_0073313</td>\n",
       "      <td>0</td>\n",
       "    </tr>\n",
       "    <tr>\n",
       "      <th>4</th>\n",
       "      <td>ISIC_0073502</td>\n",
       "      <td>0</td>\n",
       "    </tr>\n",
       "  </tbody>\n",
       "</table>\n",
       "</div>"
      ],
      "text/plain": [
       "     image_name  target\n",
       "0  ISIC_0052060       0\n",
       "1  ISIC_0052349       0\n",
       "2  ISIC_0058510       0\n",
       "3  ISIC_0073313       0\n",
       "4  ISIC_0073502       0"
      ]
     },
     "execution_count": 32,
     "metadata": {},
     "output_type": "execute_result"
    }
   ],
   "source": [
    "sam.head()\n"
   ]
  },
  {
   "cell_type": "code",
   "execution_count": 33,
   "metadata": {},
   "outputs": [],
   "source": [
    "sam[\"target\"] = pred"
   ]
  },
  {
   "cell_type": "code",
   "execution_count": 34,
   "metadata": {},
   "outputs": [
    {
     "data": {
      "text/html": [
       "<div>\n",
       "<style scoped>\n",
       "    .dataframe tbody tr th:only-of-type {\n",
       "        vertical-align: middle;\n",
       "    }\n",
       "\n",
       "    .dataframe tbody tr th {\n",
       "        vertical-align: top;\n",
       "    }\n",
       "\n",
       "    .dataframe thead th {\n",
       "        text-align: right;\n",
       "    }\n",
       "</style>\n",
       "<table border=\"1\" class=\"dataframe\">\n",
       "  <thead>\n",
       "    <tr style=\"text-align: right;\">\n",
       "      <th></th>\n",
       "      <th>image_name</th>\n",
       "      <th>target</th>\n",
       "    </tr>\n",
       "  </thead>\n",
       "  <tbody>\n",
       "    <tr>\n",
       "      <th>0</th>\n",
       "      <td>ISIC_0052060</td>\n",
       "      <td>0.999987</td>\n",
       "    </tr>\n",
       "    <tr>\n",
       "      <th>1</th>\n",
       "      <td>ISIC_0052349</td>\n",
       "      <td>0.999988</td>\n",
       "    </tr>\n",
       "    <tr>\n",
       "      <th>2</th>\n",
       "      <td>ISIC_0058510</td>\n",
       "      <td>0.999988</td>\n",
       "    </tr>\n",
       "    <tr>\n",
       "      <th>3</th>\n",
       "      <td>ISIC_0073313</td>\n",
       "      <td>0.999990</td>\n",
       "    </tr>\n",
       "    <tr>\n",
       "      <th>4</th>\n",
       "      <td>ISIC_0073502</td>\n",
       "      <td>0.999904</td>\n",
       "    </tr>\n",
       "    <tr>\n",
       "      <th>...</th>\n",
       "      <td>...</td>\n",
       "      <td>...</td>\n",
       "    </tr>\n",
       "    <tr>\n",
       "      <th>10977</th>\n",
       "      <td>ISIC_9992485</td>\n",
       "      <td>0.999975</td>\n",
       "    </tr>\n",
       "    <tr>\n",
       "      <th>10978</th>\n",
       "      <td>ISIC_9996992</td>\n",
       "      <td>0.999978</td>\n",
       "    </tr>\n",
       "    <tr>\n",
       "      <th>10979</th>\n",
       "      <td>ISIC_9997917</td>\n",
       "      <td>0.999957</td>\n",
       "    </tr>\n",
       "    <tr>\n",
       "      <th>10980</th>\n",
       "      <td>ISIC_9998234</td>\n",
       "      <td>0.999975</td>\n",
       "    </tr>\n",
       "    <tr>\n",
       "      <th>10981</th>\n",
       "      <td>ISIC_9999302</td>\n",
       "      <td>0.999896</td>\n",
       "    </tr>\n",
       "  </tbody>\n",
       "</table>\n",
       "<p>10982 rows × 2 columns</p>\n",
       "</div>"
      ],
      "text/plain": [
       "         image_name    target\n",
       "0      ISIC_0052060  0.999987\n",
       "1      ISIC_0052349  0.999988\n",
       "2      ISIC_0058510  0.999988\n",
       "3      ISIC_0073313  0.999990\n",
       "4      ISIC_0073502  0.999904\n",
       "...             ...       ...\n",
       "10977  ISIC_9992485  0.999975\n",
       "10978  ISIC_9996992  0.999978\n",
       "10979  ISIC_9997917  0.999957\n",
       "10980  ISIC_9998234  0.999975\n",
       "10981  ISIC_9999302  0.999896\n",
       "\n",
       "[10982 rows x 2 columns]"
      ]
     },
     "execution_count": 34,
     "metadata": {},
     "output_type": "execute_result"
    }
   ],
   "source": [
    "sam"
   ]
  },
  {
   "cell_type": "code",
   "execution_count": 35,
   "metadata": {},
   "outputs": [],
   "source": [
    "sam.to_csv(\"dice_loss_unet_2d_images.csv\", index=False)"
   ]
  },
  {
   "cell_type": "code",
   "execution_count": 36,
   "metadata": {},
   "outputs": [
    {
     "data": {
      "text/plain": [
       "<tensorflow.python.keras.callbacks.History at 0x1c2fcae4b08>"
      ]
     },
     "execution_count": 36,
     "metadata": {},
     "output_type": "execute_result"
    }
   ],
   "source": [
    "history"
   ]
  },
  {
   "cell_type": "code",
   "execution_count": 37,
   "metadata": {},
   "outputs": [
    {
     "data": {
      "text/plain": [
       "{'validation_data': None,\n",
       " 'model': <tensorflow.python.keras.engine.training.Model at 0x1c2fb70cdc8>,\n",
       " '_chief_worker_only': None,\n",
       " 'params': {'batch_size': None,\n",
       "  'epochs': 40,\n",
       "  'steps': 116,\n",
       "  'samples': 116,\n",
       "  'verbose': 0,\n",
       "  'do_validation': True,\n",
       "  'metrics': ['loss',\n",
       "   'tp',\n",
       "   'fp',\n",
       "   'tn',\n",
       "   'fn',\n",
       "   'accuracy',\n",
       "   'precision',\n",
       "   'recall',\n",
       "   'auc',\n",
       "   'binary_crossentropy',\n",
       "   'val_loss',\n",
       "   'val_tp',\n",
       "   'val_fp',\n",
       "   'val_tn',\n",
       "   'val_fn',\n",
       "   'val_accuracy',\n",
       "   'val_precision',\n",
       "   'val_recall',\n",
       "   'val_auc',\n",
       "   'val_binary_crossentropy']},\n",
       " 'epoch': [0, 1, 2, 3, 4, 5, 6, 7, 8, 9, 10, 11, 12, 13],\n",
       " 'history': {'loss': [0.21277424423345204,\n",
       "   0.19472619839783373,\n",
       "   0.1777343775049366,\n",
       "   0.16765736300369788,\n",
       "   0.17102092523770085,\n",
       "   0.15689382265354024,\n",
       "   0.17474329593623505,\n",
       "   0.17547372741432027,\n",
       "   0.17367730822799535,\n",
       "   0.16523849752185674,\n",
       "   0.16646937987413898,\n",
       "   0.15900008643752542,\n",
       "   0.16881072534055547,\n",
       "   0.15036010035666927],\n",
       "  'tp': [277.0,\n",
       "   282.0,\n",
       "   296.0,\n",
       "   309.0,\n",
       "   319.0,\n",
       "   338.0,\n",
       "   304.0,\n",
       "   296.0,\n",
       "   288.0,\n",
       "   303.0,\n",
       "   303.0,\n",
       "   308.0,\n",
       "   318.0,\n",
       "   337.0],\n",
       "  'fp': [193.0,\n",
       "   182.0,\n",
       "   156.0,\n",
       "   168.0,\n",
       "   159.0,\n",
       "   155.0,\n",
       "   158.0,\n",
       "   172.0,\n",
       "   144.0,\n",
       "   151.0,\n",
       "   160.0,\n",
       "   153.0,\n",
       "   176.0,\n",
       "   159.0],\n",
       "  'tn': [285.0,\n",
       "   305.0,\n",
       "   316.0,\n",
       "   327.0,\n",
       "   311.0,\n",
       "   322.0,\n",
       "   310.0,\n",
       "   317.0,\n",
       "   330.0,\n",
       "   328.0,\n",
       "   324.0,\n",
       "   331.0,\n",
       "   302.0,\n",
       "   315.0],\n",
       "  'fn': [173.0,\n",
       "   159.0,\n",
       "   160.0,\n",
       "   124.0,\n",
       "   139.0,\n",
       "   113.0,\n",
       "   156.0,\n",
       "   143.0,\n",
       "   166.0,\n",
       "   146.0,\n",
       "   141.0,\n",
       "   136.0,\n",
       "   132.0,\n",
       "   117.0],\n",
       "  'accuracy': [0.60560346,\n",
       "   0.6325431,\n",
       "   0.6594828,\n",
       "   0.6853448,\n",
       "   0.6788793,\n",
       "   0.7112069,\n",
       "   0.6616379,\n",
       "   0.66056037,\n",
       "   0.6659483,\n",
       "   0.6799569,\n",
       "   0.67564654,\n",
       "   0.6885776,\n",
       "   0.66810346,\n",
       "   0.70258623],\n",
       "  'precision': [0.5893617,\n",
       "   0.60775864,\n",
       "   0.65486723,\n",
       "   0.6477987,\n",
       "   0.667364,\n",
       "   0.6855984,\n",
       "   0.65800864,\n",
       "   0.63247865,\n",
       "   0.6666667,\n",
       "   0.6674009,\n",
       "   0.65442765,\n",
       "   0.6681128,\n",
       "   0.6437247,\n",
       "   0.6794355],\n",
       "  'recall': [0.6155556,\n",
       "   0.6394558,\n",
       "   0.64912283,\n",
       "   0.71362585,\n",
       "   0.69650656,\n",
       "   0.7494457,\n",
       "   0.66086954,\n",
       "   0.67425966,\n",
       "   0.6343612,\n",
       "   0.67483294,\n",
       "   0.6824324,\n",
       "   0.6936937,\n",
       "   0.70666665,\n",
       "   0.74229074],\n",
       "  'auc': [0.65526265,\n",
       "   0.684195,\n",
       "   0.7150958,\n",
       "   0.7475285,\n",
       "   0.7254112,\n",
       "   0.75788254,\n",
       "   0.6793199,\n",
       "   0.68649465,\n",
       "   0.68870467,\n",
       "   0.7134529,\n",
       "   0.7097806,\n",
       "   0.69999903,\n",
       "   0.7057926,\n",
       "   0.7280084],\n",
       "  'binary_crossentropy': [0.98497754,\n",
       "   1.1655858,\n",
       "   1.2134082,\n",
       "   1.1202494,\n",
       "   1.2622845,\n",
       "   1.1486608,\n",
       "   1.8975432,\n",
       "   1.8381346,\n",
       "   1.9248289,\n",
       "   1.9241006,\n",
       "   2.0131078,\n",
       "   2.0513752,\n",
       "   2.0151916,\n",
       "   1.8262025],\n",
       "  'val_loss': [0.2310558688537828,\n",
       "   0.2139057737999949,\n",
       "   0.25452392008797875,\n",
       "   0.1873899395095891,\n",
       "   0.204229809857648,\n",
       "   0.2952059229900097,\n",
       "   0.30240905079348335,\n",
       "   0.25821279348998233,\n",
       "   0.24514338656746107,\n",
       "   0.23220040649175644,\n",
       "   0.24999999588933483,\n",
       "   0.22424415242055368,\n",
       "   0.22198388442910952,\n",
       "   0.20689955713420077],\n",
       "  'val_tp': [124.0,\n",
       "   79.0,\n",
       "   28.0,\n",
       "   71.0,\n",
       "   40.0,\n",
       "   0.0,\n",
       "   2.0,\n",
       "   9.0,\n",
       "   29.0,\n",
       "   124.0,\n",
       "   116.0,\n",
       "   128.0,\n",
       "   129.0,\n",
       "   136.0],\n",
       "  'val_fp': [99.0,\n",
       "   35.0,\n",
       "   11.0,\n",
       "   24.0,\n",
       "   16.0,\n",
       "   0.0,\n",
       "   0.0,\n",
       "   2.0,\n",
       "   12.0,\n",
       "   108.0,\n",
       "   116.0,\n",
       "   104.0,\n",
       "   103.0,\n",
       "   96.0],\n",
       "  'val_tn': [4.0,\n",
       "   62.0,\n",
       "   80.0,\n",
       "   78.0,\n",
       "   84.0,\n",
       "   95.0,\n",
       "   90.0,\n",
       "   103.0,\n",
       "   90.0,\n",
       "   0.0,\n",
       "   0.0,\n",
       "   0.0,\n",
       "   0.0,\n",
       "   0.0],\n",
       "  'val_fn': [5.0,\n",
       "   56.0,\n",
       "   113.0,\n",
       "   59.0,\n",
       "   92.0,\n",
       "   137.0,\n",
       "   140.0,\n",
       "   118.0,\n",
       "   101.0,\n",
       "   0.0,\n",
       "   0.0,\n",
       "   0.0,\n",
       "   0.0,\n",
       "   0.0],\n",
       "  'val_accuracy': [0.55172414,\n",
       "   0.60775864,\n",
       "   0.46551725,\n",
       "   0.64224136,\n",
       "   0.5344828,\n",
       "   0.40948275,\n",
       "   0.39655173,\n",
       "   0.4827586,\n",
       "   0.51293105,\n",
       "   0.5344828,\n",
       "   0.5,\n",
       "   0.55172414,\n",
       "   0.5560345,\n",
       "   0.5862069],\n",
       "  'val_precision': [0.5560538,\n",
       "   0.69298244,\n",
       "   0.71794873,\n",
       "   0.7473684,\n",
       "   0.71428573,\n",
       "   0.0,\n",
       "   1.0,\n",
       "   0.8181818,\n",
       "   0.70731705,\n",
       "   0.5344828,\n",
       "   0.5,\n",
       "   0.55172414,\n",
       "   0.5560345,\n",
       "   0.5862069],\n",
       "  'val_recall': [0.9612403,\n",
       "   0.58518517,\n",
       "   0.19858156,\n",
       "   0.54615384,\n",
       "   0.3030303,\n",
       "   0.0,\n",
       "   0.014084507,\n",
       "   0.070866145,\n",
       "   0.22307692,\n",
       "   1.0,\n",
       "   1.0,\n",
       "   1.0,\n",
       "   1.0,\n",
       "   1.0],\n",
       "  'val_auc': [0.56878906,\n",
       "   0.6418481,\n",
       "   0.68498164,\n",
       "   0.706825,\n",
       "   0.7718561,\n",
       "   0.5,\n",
       "   0.52069646,\n",
       "   0.57292837,\n",
       "   0.5806184,\n",
       "   0.5092592,\n",
       "   0.5,\n",
       "   0.51735276,\n",
       "   0.5,\n",
       "   0.5],\n",
       "  'val_binary_crossentropy': [0.91288847,\n",
       "   0.8432402,\n",
       "   1.2462887,\n",
       "   1.8120676,\n",
       "   1.2783659,\n",
       "   6.937568,\n",
       "   7.2826376,\n",
       "   4.476447,\n",
       "   5.422908,\n",
       "   4.4853,\n",
       "   6.3853903,\n",
       "   3.7011771,\n",
       "   4.5229955,\n",
       "   4.4906526],\n",
       "  'lr': [1e-04,\n",
       "   1e-04,\n",
       "   1e-04,\n",
       "   1e-04,\n",
       "   1e-04,\n",
       "   1e-04,\n",
       "   1e-04,\n",
       "   1e-04,\n",
       "   5e-05,\n",
       "   5e-05,\n",
       "   5e-05,\n",
       "   5e-05,\n",
       "   2.5e-05,\n",
       "   2.5e-05]}}"
      ]
     },
     "execution_count": 37,
     "metadata": {},
     "output_type": "execute_result"
    }
   ],
   "source": [
    "history.__dict__"
   ]
  },
  {
   "cell_type": "code",
   "execution_count": 38,
   "metadata": {},
   "outputs": [],
   "source": [
    "import matplotlib.pyplot as plt"
   ]
  },
  {
   "cell_type": "code",
   "execution_count": 39,
   "metadata": {},
   "outputs": [],
   "source": [
    "loss_ = history.history[\"loss\"]\n",
    "val_loss_ = history.history[\"val_loss\"]\n",
    "epochs = [i for i in range(11)]"
   ]
  },
  {
   "cell_type": "code",
   "execution_count": 40,
   "metadata": {},
   "outputs": [
    {
     "ename": "ValueError",
     "evalue": "x and y must have same first dimension, but have shapes (11,) and (14,)",
     "output_type": "error",
     "traceback": [
      "\u001b[1;31m---------------------------------------------------------------------------\u001b[0m",
      "\u001b[1;31mValueError\u001b[0m                                Traceback (most recent call last)",
      "\u001b[1;32m<ipython-input-40-1b4b1d511041>\u001b[0m in \u001b[0;36m<module>\u001b[1;34m\u001b[0m\n\u001b[1;32m----> 1\u001b[1;33m \u001b[0mplt\u001b[0m\u001b[1;33m.\u001b[0m\u001b[0mplot\u001b[0m\u001b[1;33m(\u001b[0m\u001b[0mepochs\u001b[0m\u001b[1;33m,\u001b[0m \u001b[0mloss_\u001b[0m\u001b[1;33m,\u001b[0m \u001b[1;34m'bo'\u001b[0m\u001b[1;33m,\u001b[0m \u001b[0mlabel\u001b[0m\u001b[1;33m=\u001b[0m\u001b[1;34m\"Training loss\"\u001b[0m\u001b[1;33m)\u001b[0m\u001b[1;33m\u001b[0m\u001b[1;33m\u001b[0m\u001b[0m\n\u001b[0m\u001b[0;32m      2\u001b[0m \u001b[0mplt\u001b[0m\u001b[1;33m.\u001b[0m\u001b[0mplot\u001b[0m\u001b[1;33m(\u001b[0m\u001b[0mepochs\u001b[0m\u001b[1;33m,\u001b[0m \u001b[0mval_loss_\u001b[0m\u001b[1;33m,\u001b[0m \u001b[1;34m'b'\u001b[0m\u001b[1;33m,\u001b[0m \u001b[0mlabel\u001b[0m\u001b[1;33m=\u001b[0m\u001b[1;34m\"validation loss\"\u001b[0m\u001b[1;33m)\u001b[0m\u001b[1;33m\u001b[0m\u001b[1;33m\u001b[0m\u001b[0m\n\u001b[0;32m      3\u001b[0m \u001b[0mplt\u001b[0m\u001b[1;33m.\u001b[0m\u001b[0mlegend\u001b[0m\u001b[1;33m(\u001b[0m\u001b[1;33m)\u001b[0m\u001b[1;33m\u001b[0m\u001b[1;33m\u001b[0m\u001b[0m\n",
      "\u001b[1;32mc:\\users\\ashuk\\.conda\\envs\\tensorflow_env\\lib\\site-packages\\matplotlib\\pyplot.py\u001b[0m in \u001b[0;36mplot\u001b[1;34m(scalex, scaley, data, *args, **kwargs)\u001b[0m\n\u001b[0;32m   2761\u001b[0m     return gca().plot(\n\u001b[0;32m   2762\u001b[0m         *args, scalex=scalex, scaley=scaley, **({\"data\": data} if data\n\u001b[1;32m-> 2763\u001b[1;33m         is not None else {}), **kwargs)\n\u001b[0m\u001b[0;32m   2764\u001b[0m \u001b[1;33m\u001b[0m\u001b[0m\n\u001b[0;32m   2765\u001b[0m \u001b[1;33m\u001b[0m\u001b[0m\n",
      "\u001b[1;32mc:\\users\\ashuk\\.conda\\envs\\tensorflow_env\\lib\\site-packages\\matplotlib\\axes\\_axes.py\u001b[0m in \u001b[0;36mplot\u001b[1;34m(self, scalex, scaley, data, *args, **kwargs)\u001b[0m\n\u001b[0;32m   1644\u001b[0m         \"\"\"\n\u001b[0;32m   1645\u001b[0m         \u001b[0mkwargs\u001b[0m \u001b[1;33m=\u001b[0m \u001b[0mcbook\u001b[0m\u001b[1;33m.\u001b[0m\u001b[0mnormalize_kwargs\u001b[0m\u001b[1;33m(\u001b[0m\u001b[0mkwargs\u001b[0m\u001b[1;33m,\u001b[0m \u001b[0mmlines\u001b[0m\u001b[1;33m.\u001b[0m\u001b[0mLine2D\u001b[0m\u001b[1;33m)\u001b[0m\u001b[1;33m\u001b[0m\u001b[1;33m\u001b[0m\u001b[0m\n\u001b[1;32m-> 1646\u001b[1;33m         \u001b[0mlines\u001b[0m \u001b[1;33m=\u001b[0m \u001b[1;33m[\u001b[0m\u001b[1;33m*\u001b[0m\u001b[0mself\u001b[0m\u001b[1;33m.\u001b[0m\u001b[0m_get_lines\u001b[0m\u001b[1;33m(\u001b[0m\u001b[1;33m*\u001b[0m\u001b[0margs\u001b[0m\u001b[1;33m,\u001b[0m \u001b[0mdata\u001b[0m\u001b[1;33m=\u001b[0m\u001b[0mdata\u001b[0m\u001b[1;33m,\u001b[0m \u001b[1;33m**\u001b[0m\u001b[0mkwargs\u001b[0m\u001b[1;33m)\u001b[0m\u001b[1;33m]\u001b[0m\u001b[1;33m\u001b[0m\u001b[1;33m\u001b[0m\u001b[0m\n\u001b[0m\u001b[0;32m   1647\u001b[0m         \u001b[1;32mfor\u001b[0m \u001b[0mline\u001b[0m \u001b[1;32min\u001b[0m \u001b[0mlines\u001b[0m\u001b[1;33m:\u001b[0m\u001b[1;33m\u001b[0m\u001b[1;33m\u001b[0m\u001b[0m\n\u001b[0;32m   1648\u001b[0m             \u001b[0mself\u001b[0m\u001b[1;33m.\u001b[0m\u001b[0madd_line\u001b[0m\u001b[1;33m(\u001b[0m\u001b[0mline\u001b[0m\u001b[1;33m)\u001b[0m\u001b[1;33m\u001b[0m\u001b[1;33m\u001b[0m\u001b[0m\n",
      "\u001b[1;32mc:\\users\\ashuk\\.conda\\envs\\tensorflow_env\\lib\\site-packages\\matplotlib\\axes\\_base.py\u001b[0m in \u001b[0;36m__call__\u001b[1;34m(self, *args, **kwargs)\u001b[0m\n\u001b[0;32m    214\u001b[0m                 \u001b[0mthis\u001b[0m \u001b[1;33m+=\u001b[0m \u001b[0margs\u001b[0m\u001b[1;33m[\u001b[0m\u001b[1;36m0\u001b[0m\u001b[1;33m]\u001b[0m\u001b[1;33m,\u001b[0m\u001b[1;33m\u001b[0m\u001b[1;33m\u001b[0m\u001b[0m\n\u001b[0;32m    215\u001b[0m                 \u001b[0margs\u001b[0m \u001b[1;33m=\u001b[0m \u001b[0margs\u001b[0m\u001b[1;33m[\u001b[0m\u001b[1;36m1\u001b[0m\u001b[1;33m:\u001b[0m\u001b[1;33m]\u001b[0m\u001b[1;33m\u001b[0m\u001b[1;33m\u001b[0m\u001b[0m\n\u001b[1;32m--> 216\u001b[1;33m             \u001b[1;32myield\u001b[0m \u001b[1;32mfrom\u001b[0m \u001b[0mself\u001b[0m\u001b[1;33m.\u001b[0m\u001b[0m_plot_args\u001b[0m\u001b[1;33m(\u001b[0m\u001b[0mthis\u001b[0m\u001b[1;33m,\u001b[0m \u001b[0mkwargs\u001b[0m\u001b[1;33m)\u001b[0m\u001b[1;33m\u001b[0m\u001b[1;33m\u001b[0m\u001b[0m\n\u001b[0m\u001b[0;32m    217\u001b[0m \u001b[1;33m\u001b[0m\u001b[0m\n\u001b[0;32m    218\u001b[0m     \u001b[1;32mdef\u001b[0m \u001b[0mget_next_color\u001b[0m\u001b[1;33m(\u001b[0m\u001b[0mself\u001b[0m\u001b[1;33m)\u001b[0m\u001b[1;33m:\u001b[0m\u001b[1;33m\u001b[0m\u001b[1;33m\u001b[0m\u001b[0m\n",
      "\u001b[1;32mc:\\users\\ashuk\\.conda\\envs\\tensorflow_env\\lib\\site-packages\\matplotlib\\axes\\_base.py\u001b[0m in \u001b[0;36m_plot_args\u001b[1;34m(self, tup, kwargs)\u001b[0m\n\u001b[0;32m    340\u001b[0m \u001b[1;33m\u001b[0m\u001b[0m\n\u001b[0;32m    341\u001b[0m         \u001b[1;32mif\u001b[0m \u001b[0mx\u001b[0m\u001b[1;33m.\u001b[0m\u001b[0mshape\u001b[0m\u001b[1;33m[\u001b[0m\u001b[1;36m0\u001b[0m\u001b[1;33m]\u001b[0m \u001b[1;33m!=\u001b[0m \u001b[0my\u001b[0m\u001b[1;33m.\u001b[0m\u001b[0mshape\u001b[0m\u001b[1;33m[\u001b[0m\u001b[1;36m0\u001b[0m\u001b[1;33m]\u001b[0m\u001b[1;33m:\u001b[0m\u001b[1;33m\u001b[0m\u001b[1;33m\u001b[0m\u001b[0m\n\u001b[1;32m--> 342\u001b[1;33m             raise ValueError(f\"x and y must have same first dimension, but \"\n\u001b[0m\u001b[0;32m    343\u001b[0m                              f\"have shapes {x.shape} and {y.shape}\")\n\u001b[0;32m    344\u001b[0m         \u001b[1;32mif\u001b[0m \u001b[0mx\u001b[0m\u001b[1;33m.\u001b[0m\u001b[0mndim\u001b[0m \u001b[1;33m>\u001b[0m \u001b[1;36m2\u001b[0m \u001b[1;32mor\u001b[0m \u001b[0my\u001b[0m\u001b[1;33m.\u001b[0m\u001b[0mndim\u001b[0m \u001b[1;33m>\u001b[0m \u001b[1;36m2\u001b[0m\u001b[1;33m:\u001b[0m\u001b[1;33m\u001b[0m\u001b[1;33m\u001b[0m\u001b[0m\n",
      "\u001b[1;31mValueError\u001b[0m: x and y must have same first dimension, but have shapes (11,) and (14,)"
     ]
    },
    {
     "data": {
      "image/png": "[encoded data removed]",
      "text/plain": [
       "<Figure size 432x288 with 1 Axes>"
      ]
     },
     "metadata": {
      "needs_background": "light"
     },
     "output_type": "display_data"
    }
   ],
   "source": [
    "plt.plot(epochs, loss_, 'bo', label=\"Training loss\")\n",
    "plt.plot(epochs, val_loss_, 'b', label=\"validation loss\")\n",
    "plt.legend()"
   ]
  },
  {
   "cell_type": "code",
   "execution_count": null,
   "metadata": {},
   "outputs": [],
   "source": []
  }
 ],
 "metadata": {
  "kernelspec": {
   "display_name": "Python 3",
   "language": "python",
   "name": "python3"
  },
  "language_info": {
   "codemirror_mode": {
    "name": "ipython",
    "version": 3
   },
   "file_extension": ".py",
   "mimetype": "text/x-python",
   "name": "python",
   "nbconvert_exporter": "python",
   "pygments_lexer": "ipython3",
   "version": "3.7.6"
  }
 },
 "nbformat": 4,
 "nbformat_minor": 4
}
