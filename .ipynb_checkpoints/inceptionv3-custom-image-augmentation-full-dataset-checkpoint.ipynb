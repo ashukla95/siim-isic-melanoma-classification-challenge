{
 "cells": [
  {
   "cell_type": "code",
   "execution_count": 1,
   "metadata": {},
   "outputs": [
    {
     "name": "stderr",
     "output_type": "stream",
     "text": [
      "Using TensorFlow backend.\n"
     ]
    }
   ],
   "source": [
    "from tensorflow.keras.layers import (Conv2D, UpSampling2D, Conv2DTranspose, concatenate, MaxPooling2D, GlobalAveragePooling2D, \n",
    "                                     Activation, Dropout, Cropping2D, Flatten, Dense, BatchNormalization)\n",
    "from tensorflow.keras.models import Model\n",
    "from tensorflow.keras import Input\n",
    "from tensorflow.keras.optimizers import Adam\n",
    "from tensorflow.keras.callbacks import ReduceLROnPlateau, EarlyStopping, ModelCheckpoint\n",
    "from tensorflow.keras.applications import InceptionV3\n",
    "import tensorflow as tf\n",
    "import pandas as pd\n",
    "from sklearn.model_selection import train_test_split\n",
    "import numpy as np\n",
    "from imblearn.over_sampling import SMOTE\n",
    "from imblearn.under_sampling import RandomUnderSampler\n",
    "from imblearn.pipeline import Pipeline\n",
    "from sklearn.preprocessing import LabelEncoder\n",
    "import efficientnet.tfkeras as efn"
   ]
  },
  {
   "cell_type": "code",
   "execution_count": 2,
   "metadata": {},
   "outputs": [],
   "source": [
    "IMG_HEIGHT = 300\n",
    "IMG_WIDTH = 300\n",
    "TRAIN_IMAGE_PATH = \"jpeg/train/\"\n",
    "TEST_IMAGE_PATH = \"jpeg/test/\"\n",
    "BATCH_SIZE = 8\n",
    "AUTO = tf.data.experimental.AUTOTUNE\n",
    "REG = 0.0005\n",
    "EPOCHS=100\n",
    "METRICS = [\n",
    "    tf.keras.metrics.TruePositives(name='tp'),\n",
    "    tf.keras.metrics.FalsePositives(name='fp'),\n",
    "    tf.keras.metrics.TrueNegatives(name='tn'),\n",
    "    tf.keras.metrics.FalseNegatives(name='fn'), \n",
    "    tf.keras.metrics.BinaryAccuracy(name='accuracy'),\n",
    "    tf.keras.metrics.Precision(name='precision'),\n",
    "    tf.keras.metrics.Recall(name='recall'),\n",
    "    tf.keras.metrics.AUC(name='auc'),\n",
    "    tf.keras.metrics.binary_crossentropy,\n",
    "]"
   ]
  },
  {
   "cell_type": "code",
   "execution_count": 3,
   "metadata": {},
   "outputs": [],
   "source": [
    "train_df = pd.read_csv(\"train.csv\")\n",
    "test_df = pd.read_csv(\"test.csv\")"
   ]
  },
  {
   "cell_type": "code",
   "execution_count": 4,
   "metadata": {},
   "outputs": [],
   "source": [
    "train_df[\"image_name\"] = train_df[\"image_name\"].apply(lambda x: TRAIN_IMAGE_PATH + x + \".jpg\")\n",
    "test_df[\"image_name\"] = test_df[\"image_name\"].apply(lambda x: TEST_IMAGE_PATH + x + \".jpg\")"
   ]
  },
  {
   "cell_type": "code",
   "execution_count": 5,
   "metadata": {},
   "outputs": [],
   "source": [
    "train_df_target_1 = train_df[train_df[\"target\"] == 1]\n",
    "train_df_target_0 = train_df[train_df[\"target\"] == 0]"
   ]
  },
  {
   "cell_type": "code",
   "execution_count": 6,
   "metadata": {},
   "outputs": [],
   "source": [
    "del train_df"
   ]
  },
  {
   "cell_type": "code",
   "execution_count": 7,
   "metadata": {},
   "outputs": [],
   "source": [
    "random_target_0 = np.random.randint(low=1, high=train_df_target_0.shape[0], \n",
    "                                    size=2 * train_df_target_1.shape[0])"
   ]
  },
  {
   "cell_type": "code",
   "execution_count": 8,
   "metadata": {},
   "outputs": [],
   "source": [
    "train_df_d = pd.concat([train_df_target_0.iloc[random_target_0], train_df_target_1])"
   ]
  },
  {
   "cell_type": "code",
   "execution_count": 9,
   "metadata": {},
   "outputs": [],
   "source": [
    "def decode_image(filename, label=None, image_size=(IMG_WIDTH, IMG_HEIGHT)):\n",
    "    bits = tf.io.read_file(filename)\n",
    "    image = tf.image.decode_jpeg(bits, channels=3)\n",
    "    image = tf.image.convert_image_dtype(image, tf.float32)\n",
    "    image = tf.image.resize(image, size=image_size)\n",
    "    \n",
    "    if label is None:\n",
    "        return image\n",
    "    else:\n",
    "        return image, label\n",
    "#image = tf.cast(image, tf.float32)/255.0\n",
    "    \n",
    "def data_augment(image, label=None):\n",
    "    r_crop = np.random.uniform(low = 0.4, high = 1.0)\n",
    "    r_rsize = np.random.uniform(low = 0.8, high = 1.2)\n",
    "    image = tf.image.random_crop(image, (int(r_crop*IMG_HEIGHT), int(r_crop*IMG_WIDTH), 3))\n",
    "    image = tf.image.rot90(image)\n",
    "    image = tf.keras.preprocessing.image.random_shear(image, 20)\n",
    "    image = tf.image.resize(image, (int(r_rsize*IMG_HEIGHT), int(r_rsize*IMG_WIDTH), 3), preserve_aspect_ratio=True)\n",
    "    image = tf.image.random_flip_left_right(image)\n",
    "    image = tf.image.random_flip_up_down(image)\n",
    "    image = tf.image.random_saturation(image, lower=0.7, upper=1.3)\n",
    "    image = tf.image.random_contrast(image, lower=0.7, upper=1.3)\n",
    "    image = tf.image.random_brightness(image, lower=0.7, upper=1.3)\n",
    "    image = tf.image.rgb_to_hsv(image)\n",
    "    if label is None:\n",
    "        return image\n",
    "    else:\n",
    "        return image, label\n",
    "#     image = tf.image.rgb_to_hsv(image)\n",
    "#     image = tf.image.random_flip_left_right(image)\n",
    "#     image = tf.image.adjust_brightness(image, 0.2)\n",
    "#     image = tf.image.rot90(image)\n",
    "#     image = tf.image.central_crop(image, central_fraction=0.3)"
   ]
  },
  {
   "cell_type": "code",
   "execution_count": 10,
   "metadata": {},
   "outputs": [],
   "source": [
    "x_train = train_df[[\"image_name\"]]\n",
    "y_train = train_df[\"target\"].astype(np.float32).values\n",
    "x_train.reset_index(drop=True, inplace=True)"
   ]
  },
  {
   "cell_type": "code",
   "execution_count": 11,
   "metadata": {},
   "outputs": [],
   "source": [
    "x_train, x_val, y_train, y_val = train_test_split(x_train, y_train, test_size=0.2, random_state=45)"
   ]
  },
  {
   "cell_type": "code",
   "execution_count": 12,
   "metadata": {},
   "outputs": [
    {
     "data": {
      "text/plain": [
       "((1401, 1), (351, 1), (1401,), (351,))"
      ]
     },
     "execution_count": 12,
     "metadata": {},
     "output_type": "execute_result"
    }
   ],
   "source": [
    "x_train.shape, x_val.shape, y_train.shape, y_val.shape"
   ]
  },
  {
   "cell_type": "code",
   "execution_count": 13,
   "metadata": {},
   "outputs": [],
   "source": [
    "from sklearn.utils import class_weight\n",
    "class_weights = class_weight.compute_class_weight('balanced', np.unique(y_train), y_train)"
   ]
  },
  {
   "cell_type": "code",
   "execution_count": 14,
   "metadata": {},
   "outputs": [
    {
     "data": {
      "text/plain": [
       "array([0.74600639, 1.51623377])"
      ]
     },
     "execution_count": 14,
     "metadata": {},
     "output_type": "execute_result"
    }
   ],
   "source": [
    "class_weights"
   ]
  },
  {
   "cell_type": "code",
   "execution_count": 15,
   "metadata": {
    "scrolled": true
   },
   "outputs": [],
   "source": [
    "train_dataset = (tf.data.Dataset\n",
    "                 .from_tensor_slices((x_train[\"image_name\"].values, y_train))\n",
    "                 .map(decode_image, num_parallel_calls=AUTO)\n",
    "                 .repeat()\n",
    "                 .shuffle(512)\n",
    "                 .batch(BATCH_SIZE)\n",
    "                 .prefetch(AUTO)\n",
    "                )"
   ]
  },
  {
   "cell_type": "code",
   "execution_count": 16,
   "metadata": {},
   "outputs": [],
   "source": [
    "val_dataset = (tf.data.Dataset\n",
    "               .from_tensor_slices((x_val[\"image_name\"].values, y_val))\n",
    "               .map(decode_image, num_parallel_calls=AUTO)\n",
    "               .repeat()\n",
    "               .shuffle(512)\n",
    "               .batch(BATCH_SIZE)\n",
    "               .prefetch(AUTO))"
   ]
  },
  {
   "cell_type": "code",
   "execution_count": 17,
   "metadata": {},
   "outputs": [],
   "source": [
    "test_dataset = (tf.data.Dataset.from_tensor_slices((test_df.image_name))\n",
    "                .map(decode_image, num_parallel_calls=AUTO)\n",
    "                .cache()\n",
    "                .batch(BATCH_SIZE))"
   ]
  },
  {
   "cell_type": "code",
   "execution_count": 18,
   "metadata": {},
   "outputs": [],
   "source": [
    "lr = ReduceLROnPlateau(\n",
    "    monitor=\"val_auc\",\n",
    "    patience=3,\n",
    "    min_lr=0.000001,\n",
    "    factor=0.5,\n",
    "    verbose=1\n",
    ")"
   ]
  },
  {
   "cell_type": "code",
   "execution_count": 19,
   "metadata": {},
   "outputs": [],
   "source": [
    "es = EarlyStopping(monitor=\"val_loss\", patience=10)"
   ]
  },
  {
   "cell_type": "code",
   "execution_count": 20,
   "metadata": {},
   "outputs": [],
   "source": [
    "model_chkpt = ModelCheckpoint(filepath=\"best_model.h5\")"
   ]
  },
  {
   "cell_type": "code",
   "execution_count": 21,
   "metadata": {},
   "outputs": [],
   "source": [
    "def dice_loss(y_true, y_pred):\n",
    "    numerator = 2 * tf.reduce_sum(y_true * y_pred, axis=-1)\n",
    "    denominator = tf.reduce_sum(y_true + y_pred, axis=-1)\n",
    "    return 1 - (numerator + 1) / (denominator + 1)"
   ]
  },
  {
   "cell_type": "code",
   "execution_count": 22,
   "metadata": {
    "scrolled": true
   },
   "outputs": [],
   "source": [
    "def create_model(input_layer):\n",
    "    \n",
    "    pretrained_model =InceptionV3(input_shape=(IMG_HEIGHT, IMG_WIDTH, 3),\n",
    "                                              weights='imagenet',\n",
    "                                              include_top=False\n",
    "                                             )\n",
    "    # False = transfer learning, True = fine-tuning\n",
    "    pretrained_model.trainable = True#False \n",
    "\n",
    "    inp1 = tf.keras.layers.Input(shape=(IMG_HEIGHT, IMG_WIDTH, 3), name='inp1')\n",
    "        \n",
    "\n",
    "    x=pretrained_model(inp1)\n",
    "    x=tf.keras.layers.GlobalAveragePooling2D()(x)\n",
    "    x=tf.keras.layers.Dense(1024, \n",
    "                                kernel_regularizer=tf.keras.regularizers.l2(l=0.01),\n",
    "                                activation='relu')(x)\n",
    "    x=tf.keras.layers.Dropout(0.2)(x)\n",
    "    x=tf.keras.layers.Dense(512, \n",
    "                                kernel_regularizer=tf.keras.regularizers.l2(l=0.01),\n",
    "                                activation='relu')(x)\n",
    "    x=tf.keras.layers.Dropout(0.2)(x)\n",
    "    x=tf.keras.layers.Dense(256, \n",
    "                                kernel_regularizer=tf.keras.regularizers.l2(l=0.01),\n",
    "                                activation='relu')(x)\n",
    "    x=tf.keras.layers.Dropout(0.2)(x)\n",
    "    x=tf.keras.layers.Dense(128, \n",
    "                                kernel_regularizer=tf.keras.regularizers.l2(l=0.01),\n",
    "                                activation='relu')(x)\n",
    "    x=tf.keras.layers.Dropout(0.2)(x)\n",
    "    x=tf.keras.layers.Dense(64, kernel_regularizer=tf.keras.regularizers.l2(l=0.01),\n",
    "                                activation='relu')(x)\n",
    "    x=tf.keras.layers.Dropout(0.2)(x)\n",
    "        \n",
    "    output = tf.keras.layers.Dense(1, activation='sigmoid', name='output')(x)\n",
    "        \n",
    "    model = tf.keras.models.Model(inputs=[inp1], outputs=[output])\n",
    "    \n",
    "    model.compile(\n",
    "        optimizer='adam',\n",
    "        loss = dice_loss,\n",
    "        metrics=[tf.keras.metrics.AUC()],\n",
    "        )\n",
    "        \n",
    "    return model"
   ]
  },
  {
   "cell_type": "code",
   "execution_count": 23,
   "metadata": {},
   "outputs": [
    {
     "name": "stdout",
     "output_type": "stream",
     "text": [
      "Model: \"model\"\n",
      "_________________________________________________________________\n",
      "Layer (type)                 Output Shape              Param #   \n",
      "=================================================================\n",
      "inp1 (InputLayer)            [(None, 300, 300, 3)]     0         \n",
      "_________________________________________________________________\n",
      "inception_v3 (Model)         (None, 8, 8, 2048)        21802784  \n",
      "_________________________________________________________________\n",
      "global_average_pooling2d (Gl (None, 2048)              0         \n",
      "_________________________________________________________________\n",
      "dense (Dense)                (None, 1024)              2098176   \n",
      "_________________________________________________________________\n",
      "dropout (Dropout)            (None, 1024)              0         \n",
      "_________________________________________________________________\n",
      "dense_1 (Dense)              (None, 512)               524800    \n",
      "_________________________________________________________________\n",
      "dropout_1 (Dropout)          (None, 512)               0         \n",
      "_________________________________________________________________\n",
      "dense_2 (Dense)              (None, 256)               131328    \n",
      "_________________________________________________________________\n",
      "dropout_2 (Dropout)          (None, 256)               0         \n",
      "_________________________________________________________________\n",
      "dense_3 (Dense)              (None, 128)               32896     \n",
      "_________________________________________________________________\n",
      "dropout_3 (Dropout)          (None, 128)               0         \n",
      "_________________________________________________________________\n",
      "dense_4 (Dense)              (None, 64)                8256      \n",
      "_________________________________________________________________\n",
      "dropout_4 (Dropout)          (None, 64)                0         \n",
      "_________________________________________________________________\n",
      "output (Dense)               (None, 1)                 65        \n",
      "=================================================================\n",
      "Total params: 24,598,305\n",
      "Trainable params: 24,563,873\n",
      "Non-trainable params: 34,432\n",
      "_________________________________________________________________\n"
     ]
    }
   ],
   "source": [
    "input_layer = Input((IMG_HEIGHT, IMG_WIDTH, 3))\n",
    "model = create_model(input_layer=input_layer)\n",
    "model.summary()"
   ]
  },
  {
   "cell_type": "code",
   "execution_count": 24,
   "metadata": {},
   "outputs": [],
   "source": [
    "model.compile(optimizer=tf.keras.optimizers.Adam(learning_rate=0.0001), loss=dice_loss, metrics=METRICS)"
   ]
  },
  {
   "cell_type": "code",
   "execution_count": 25,
   "metadata": {
    "scrolled": false
   },
   "outputs": [
    {
     "name": "stdout",
     "output_type": "stream",
     "text": [
      "Train for 175 steps, validate for 43 steps\n",
      "Epoch 1/100\n",
      "175/175 [==============================] - 197s 1s/step - loss: 18.0775 - tp: 15.0000 - fp: 2.0000 - tn: 933.0000 - fn: 450.0000 - accuracy: 0.6771 - precision: 0.8824 - recall: 0.0323 - auc: 0.7478 - binary_crossentropy: 0.8251 - val_loss: 11.2358 - val_tp: 53.0000 - val_fp: 8.0000 - val_tn: 222.0000 - val_fn: 61.0000 - val_accuracy: 0.7994 - val_precision: 0.8689 - val_recall: 0.4649 - val_auc: 0.8652 - val_binary_crossentropy: 0.6718\n",
      "Epoch 2/100\n",
      "175/175 [==============================] - 185s 1s/step - loss: 7.5123 - tp: 184.0000 - fp: 46.0000 - tn: 888.0000 - fn: 282.0000 - accuracy: 0.7657 - precision: 0.8000 - recall: 0.3948 - auc: 0.7853 - binary_crossentropy: 0.9267 - val_loss: 4.7305 - val_tp: 57.0000 - val_fp: 9.0000 - val_tn: 213.0000 - val_fn: 65.0000 - val_accuracy: 0.7849 - val_precision: 0.8636 - val_recall: 0.4672 - val_auc: 0.7827 - val_binary_crossentropy: 1.1641\n",
      "Epoch 3/100\n",
      "175/175 [==============================] - 196s 1s/step - loss: 3.2674 - tp: 237.0000 - fp: 74.0000 - tn: 871.0000 - fn: 218.0000 - accuracy: 0.7914 - precision: 0.7621 - recall: 0.5209 - auc: 0.8273 - binary_crossentropy: 0.7445 - val_loss: 2.1902 - val_tp: 56.0000 - val_fp: 16.0000 - val_tn: 211.0000 - val_fn: 61.0000 - val_accuracy: 0.7762 - val_precision: 0.7778 - val_recall: 0.4786 - val_auc: 0.7970 - val_binary_crossentropy: 0.9808\n",
      "Epoch 4/100\n",
      "175/175 [==============================] - 189s 1s/step - loss: 1.5961 - tp: 266.0000 - fp: 73.0000 - tn: 868.0000 - fn: 193.0000 - accuracy: 0.8100 - precision: 0.7847 - recall: 0.5795 - auc: 0.8089 - binary_crossentropy: 0.8398 - val_loss: 1.1562 - val_tp: 90.0000 - val_fp: 36.0000 - val_tn: 179.0000 - val_fn: 39.0000 - val_accuracy: 0.7820 - val_precision: 0.7143 - val_recall: 0.6977 - val_auc: 0.8552 - val_binary_crossentropy: 0.5554\n",
      "Epoch 5/100\n",
      "174/175 [============================>.] - ETA: 0s - loss: 0.8941 - tp: 271.0000 - fp: 88.0000 - tn: 841.0000 - fn: 192.0000 - accuracy: 0.7989 - precision: 0.7549 - recall: 0.5853 - auc: 0.8326 - binary_crossentropy: 0.7125\n",
      "Epoch 00005: ReduceLROnPlateau reducing learning rate to 4.999999873689376e-05.\n",
      "175/175 [==============================] - 194s 1s/step - loss: 0.8928 - tp: 274.0000 - fp: 88.0000 - tn: 845.0000 - fn: 193.0000 - accuracy: 0.7993 - precision: 0.7569 - recall: 0.5867 - auc: 0.8340 - binary_crossentropy: 0.7106 - val_loss: 0.6952 - val_tp: 76.0000 - val_fp: 27.0000 - val_tn: 200.0000 - val_fn: 41.0000 - val_accuracy: 0.8023 - val_precision: 0.7379 - val_recall: 0.6496 - val_auc: 0.8337 - val_binary_crossentropy: 0.5363\n",
      "Epoch 6/100\n",
      "175/175 [==============================] - 162s 925ms/step - loss: 0.6031 - tp: 281.0000 - fp: 69.0000 - tn: 876.0000 - fn: 174.0000 - accuracy: 0.8264 - precision: 0.8029 - recall: 0.6176 - auc: 0.8543 - binary_crossentropy: 0.6772 - val_loss: 0.5538 - val_tp: 38.0000 - val_fp: 8.0000 - val_tn: 225.0000 - val_fn: 73.0000 - val_accuracy: 0.7645 - val_precision: 0.8261 - val_recall: 0.3423 - val_auc: 0.7563 - val_binary_crossentropy: 1.2776\n",
      "Epoch 7/100\n",
      "175/175 [==============================] - 112s 638ms/step - loss: 0.4764 - tp: 358.0000 - fp: 73.0000 - tn: 846.0000 - fn: 123.0000 - accuracy: 0.8600 - precision: 0.8306 - recall: 0.7443 - auc: 0.8933 - binary_crossentropy: 0.5600 - val_loss: 0.4416 - val_tp: 78.0000 - val_fp: 20.0000 - val_tn: 204.0000 - val_fn: 42.0000 - val_accuracy: 0.8198 - val_precision: 0.7959 - val_recall: 0.6500 - val_auc: 0.8447 - val_binary_crossentropy: 0.7448\n",
      "Epoch 8/100\n",
      "175/175 [==============================] - 123s 701ms/step - loss: 0.3806 - tp: 330.0000 - fp: 54.0000 - tn: 895.0000 - fn: 121.0000 - accuracy: 0.8750 - precision: 0.8594 - recall: 0.7317 - auc: 0.8865 - binary_crossentropy: 0.5577 - val_loss: 0.3804 - val_tp: 102.0000 - val_fp: 41.0000 - val_tn: 174.0000 - val_fn: 27.0000 - val_accuracy: 0.8023 - val_precision: 0.7133 - val_recall: 0.7907 - val_auc: 0.8320 - val_binary_crossentropy: 0.6136\n",
      "Epoch 9/100\n",
      "174/175 [============================>.] - ETA: 0s - loss: 0.3105 - tp: 332.0000 - fp: 37.0000 - tn: 901.0000 - fn: 122.0000 - accuracy: 0.8858 - precision: 0.8997 - recall: 0.7313 - auc: 0.8927 - binary_crossentropy: 0.5843\n",
      "Epoch 00009: ReduceLROnPlateau reducing learning rate to 2.499999936844688e-05.\n",
      "175/175 [==============================] - 124s 706ms/step - loss: 0.3100 - tp: 334.0000 - fp: 37.0000 - tn: 907.0000 - fn: 122.0000 - accuracy: 0.8864 - precision: 0.9003 - recall: 0.7325 - auc: 0.8932 - binary_crossentropy: 0.5817 - val_loss: 0.3080 - val_tp: 87.0000 - val_fp: 24.0000 - val_tn: 197.0000 - val_fn: 36.0000 - val_accuracy: 0.8256 - val_precision: 0.7838 - val_recall: 0.7073 - val_auc: 0.8500 - val_binary_crossentropy: 0.7533\n",
      "Epoch 10/100\n",
      "175/175 [==============================] - 126s 721ms/step - loss: 0.2656 - tp: 345.0000 - fp: 30.0000 - tn: 914.0000 - fn: 111.0000 - accuracy: 0.8993 - precision: 0.9200 - recall: 0.7566 - auc: 0.9085 - binary_crossentropy: 0.5301 - val_loss: 0.2923 - val_tp: 82.0000 - val_fp: 22.0000 - val_tn: 196.0000 - val_fn: 44.0000 - val_accuracy: 0.8081 - val_precision: 0.7885 - val_recall: 0.6508 - val_auc: 0.8500 - val_binary_crossentropy: 0.8569\n",
      "Epoch 11/100\n",
      "175/175 [==============================] - 126s 720ms/step - loss: 0.2376 - tp: 369.0000 - fp: 25.0000 - tn: 917.0000 - fn: 89.0000 - accuracy: 0.9186 - precision: 0.9365 - recall: 0.8057 - auc: 0.9356 - binary_crossentropy: 0.4422 - val_loss: 0.2594 - val_tp: 76.0000 - val_fp: 21.0000 - val_tn: 207.0000 - val_fn: 40.0000 - val_accuracy: 0.8227 - val_precision: 0.7835 - val_recall: 0.6552 - val_auc: 0.8555 - val_binary_crossentropy: 0.6761\n",
      "Epoch 12/100\n",
      "174/175 [============================>.] - ETA: 0s - loss: 0.2104 - tp: 402.0000 - fp: 10.0000 - tn: 909.0000 - fn: 71.0000 - accuracy: 0.9418 - precision: 0.9757 - recall: 0.8499 - auc: 0.9559 - binary_crossentropy: 0.3826\n",
      "Epoch 00012: ReduceLROnPlateau reducing learning rate to 1.249999968422344e-05.\n",
      "175/175 [==============================] - 127s 723ms/step - loss: 0.2103 - tp: 405.0000 - fp: 10.0000 - tn: 914.0000 - fn: 71.0000 - accuracy: 0.9421 - precision: 0.9759 - recall: 0.8508 - auc: 0.9563 - binary_crossentropy: 0.3813 - val_loss: 0.2530 - val_tp: 85.0000 - val_fp: 23.0000 - val_tn: 193.0000 - val_fn: 43.0000 - val_accuracy: 0.8081 - val_precision: 0.7870 - val_recall: 0.6641 - val_auc: 0.8469 - val_binary_crossentropy: 0.8452\n",
      "Epoch 13/100\n",
      "175/175 [==============================] - 126s 721ms/step - loss: 0.1936 - tp: 384.0000 - fp: 13.0000 - tn: 934.0000 - fn: 69.0000 - accuracy: 0.9414 - precision: 0.9673 - recall: 0.8477 - auc: 0.9476 - binary_crossentropy: 0.3804 - val_loss: 0.2403 - val_tp: 66.0000 - val_fp: 21.0000 - val_tn: 213.0000 - val_fn: 44.0000 - val_accuracy: 0.8110 - val_precision: 0.7586 - val_recall: 0.6000 - val_auc: 0.8400 - val_binary_crossentropy: 0.8070\n",
      "Epoch 14/100\n",
      "175/175 [==============================] - 127s 723ms/step - loss: 0.1818 - tp: 422.0000 - fp: 13.0000 - tn: 913.0000 - fn: 52.0000 - accuracy: 0.9536 - precision: 0.9701 - recall: 0.8903 - auc: 0.9679 - binary_crossentropy: 0.2889 - val_loss: 0.2338 - val_tp: 83.0000 - val_fp: 25.0000 - val_tn: 193.0000 - val_fn: 43.0000 - val_accuracy: 0.8023 - val_precision: 0.7685 - val_recall: 0.6587 - val_auc: 0.8517 - val_binary_crossentropy: 0.6842\n",
      "Epoch 15/100\n",
      "174/175 [============================>.] - ETA: 0s - loss: 0.1686 - tp: 414.0000 - fp: 7.0000 - tn: 931.0000 - fn: 40.0000 - accuracy: 0.9662 - precision: 0.9834 - recall: 0.9119 - auc: 0.9751 - binary_crossentropy: 0.2605\n",
      "Epoch 00015: ReduceLROnPlateau reducing learning rate to 6.24999984211172e-06.\n",
      "175/175 [==============================] - 130s 740ms/step - loss: 0.1685 - tp: 416.0000 - fp: 7.0000 - tn: 937.0000 - fn: 40.0000 - accuracy: 0.9664 - precision: 0.9835 - recall: 0.9123 - auc: 0.9752 - binary_crossentropy: 0.2596 - val_loss: 0.2214 - val_tp: 84.0000 - val_fp: 20.0000 - val_tn: 195.0000 - val_fn: 45.0000 - val_accuracy: 0.8110 - val_precision: 0.8077 - val_recall: 0.6512 - val_auc: 0.8781 - val_binary_crossentropy: 0.6771\n",
      "Epoch 16/100\n"
     ]
    },
    {
     "name": "stdout",
     "output_type": "stream",
     "text": [
      "175/175 [==============================] - 128s 730ms/step - loss: 0.1624 - tp: 422.0000 - fp: 12.0000 - tn: 928.0000 - fn: 38.0000 - accuracy: 0.9643 - precision: 0.9724 - recall: 0.9174 - auc: 0.9756 - binary_crossentropy: 0.2432 - val_loss: 0.2138 - val_tp: 74.0000 - val_fp: 28.0000 - val_tn: 204.0000 - val_fn: 38.0000 - val_accuracy: 0.8081 - val_precision: 0.7255 - val_recall: 0.6607 - val_auc: 0.8794 - val_binary_crossentropy: 0.5922\n",
      "Epoch 17/100\n",
      "175/175 [==============================] - 128s 731ms/step - loss: 0.1555 - tp: 420.0000 - fp: 7.0000 - tn: 941.0000 - fn: 32.0000 - accuracy: 0.9721 - precision: 0.9836 - recall: 0.9292 - auc: 0.9761 - binary_crossentropy: 0.2378 - val_loss: 0.2267 - val_tp: 79.0000 - val_fp: 24.0000 - val_tn: 193.0000 - val_fn: 48.0000 - val_accuracy: 0.7907 - val_precision: 0.7670 - val_recall: 0.6220 - val_auc: 0.8538 - val_binary_crossentropy: 0.7913\n",
      "Epoch 18/100\n",
      "174/175 [============================>.] - ETA: 0s - loss: 0.1544 - tp: 444.0000 - fp: 7.0000 - tn: 903.0000 - fn: 38.0000 - accuracy: 0.9677 - precision: 0.9845 - recall: 0.9212 - auc: 0.9806 - binary_crossentropy: 0.2340\n",
      "Epoch 00018: ReduceLROnPlateau reducing learning rate to 3.12499992105586e-06.\n",
      "175/175 [==============================] - 128s 732ms/step - loss: 0.1544 - tp: 448.0000 - fp: 7.0000 - tn: 907.0000 - fn: 38.0000 - accuracy: 0.9679 - precision: 0.9846 - recall: 0.9218 - auc: 0.9808 - binary_crossentropy: 0.2337 - val_loss: 0.2126 - val_tp: 79.0000 - val_fp: 30.0000 - val_tn: 197.0000 - val_fn: 38.0000 - val_accuracy: 0.8023 - val_precision: 0.7248 - val_recall: 0.6752 - val_auc: 0.8631 - val_binary_crossentropy: 0.6548\n",
      "Epoch 19/100\n",
      "175/175 [==============================] - 141s 804ms/step - loss: 0.1475 - tp: 424.0000 - fp: 8.0000 - tn: 942.0000 - fn: 26.0000 - accuracy: 0.9757 - precision: 0.9815 - recall: 0.9422 - auc: 0.9846 - binary_crossentropy: 0.2031 - val_loss: 0.2059 - val_tp: 84.0000 - val_fp: 24.0000 - val_tn: 199.0000 - val_fn: 37.0000 - val_accuracy: 0.8227 - val_precision: 0.7778 - val_recall: 0.6942 - val_auc: 0.8767 - val_binary_crossentropy: 0.6420\n",
      "Epoch 20/100\n",
      "175/175 [==============================] - 136s 774ms/step - loss: 0.1465 - tp: 436.0000 - fp: 9.0000 - tn: 930.0000 - fn: 25.0000 - accuracy: 0.9757 - precision: 0.9798 - recall: 0.9458 - auc: 0.9818 - binary_crossentropy: 0.2058 - val_loss: 0.2248 - val_tp: 83.0000 - val_fp: 33.0000 - val_tn: 182.0000 - val_fn: 46.0000 - val_accuracy: 0.7703 - val_precision: 0.7155 - val_recall: 0.6434 - val_auc: 0.8354 - val_binary_crossentropy: 0.7395\n",
      "Epoch 21/100\n",
      "174/175 [============================>.] - ETA: 0s - loss: 0.1418 - tp: 430.0000 - fp: 6.0000 - tn: 934.0000 - fn: 22.0000 - accuracy: 0.9799 - precision: 0.9862 - recall: 0.9513 - auc: 0.9856 - binary_crossentropy: 0.1938\n",
      "Epoch 00021: ReduceLROnPlateau reducing learning rate to 1.56249996052793e-06.\n",
      "175/175 [==============================] - 126s 720ms/step - loss: 0.1418 - tp: 433.0000 - fp: 6.0000 - tn: 939.0000 - fn: 22.0000 - accuracy: 0.9800 - precision: 0.9863 - recall: 0.9516 - auc: 0.9857 - binary_crossentropy: 0.1934 - val_loss: 0.2105 - val_tp: 83.0000 - val_fp: 25.0000 - val_tn: 195.0000 - val_fn: 41.0000 - val_accuracy: 0.8081 - val_precision: 0.7685 - val_recall: 0.6694 - val_auc: 0.8598 - val_binary_crossentropy: 0.7176\n",
      "Epoch 22/100\n",
      "175/175 [==============================] - 127s 724ms/step - loss: 0.1413 - tp: 445.0000 - fp: 7.0000 - tn: 927.0000 - fn: 21.0000 - accuracy: 0.9800 - precision: 0.9845 - recall: 0.9549 - auc: 0.9858 - binary_crossentropy: 0.1927 - val_loss: 0.2115 - val_tp: 81.0000 - val_fp: 31.0000 - val_tn: 194.0000 - val_fn: 38.0000 - val_accuracy: 0.7994 - val_precision: 0.7232 - val_recall: 0.6807 - val_auc: 0.8735 - val_binary_crossentropy: 0.6486\n",
      "Epoch 23/100\n",
      "175/175 [==============================] - 128s 733ms/step - loss: 0.1404 - tp: 432.0000 - fp: 6.0000 - tn: 935.0000 - fn: 27.0000 - accuracy: 0.9764 - precision: 0.9863 - recall: 0.9412 - auc: 0.9889 - binary_crossentropy: 0.1913 - val_loss: 0.2129 - val_tp: 95.0000 - val_fp: 30.0000 - val_tn: 179.0000 - val_fn: 40.0000 - val_accuracy: 0.7965 - val_precision: 0.7600 - val_recall: 0.7037 - val_auc: 0.8691 - val_binary_crossentropy: 0.6755\n",
      "Epoch 24/100\n",
      "174/175 [============================>.] - ETA: 0s - loss: 0.1392 - tp: 439.0000 - fp: 9.0000 - tn: 923.0000 - fn: 21.0000 - accuracy: 0.9784 - precision: 0.9799 - recall: 0.9543 - auc: 0.9828 - binary_crossentropy: 0.1993\n",
      "Epoch 00024: ReduceLROnPlateau reducing learning rate to 1e-06.\n",
      "175/175 [==============================] - 127s 726ms/step - loss: 0.1392 - tp: 442.0000 - fp: 9.0000 - tn: 928.0000 - fn: 21.0000 - accuracy: 0.9786 - precision: 0.9800 - recall: 0.9546 - auc: 0.9830 - binary_crossentropy: 0.1989 - val_loss: 0.2051 - val_tp: 73.0000 - val_fp: 30.0000 - val_tn: 202.0000 - val_fn: 39.0000 - val_accuracy: 0.7994 - val_precision: 0.7087 - val_recall: 0.6518 - val_auc: 0.8551 - val_binary_crossentropy: 0.6732\n",
      "Epoch 25/100\n",
      "175/175 [==============================] - 128s 731ms/step - loss: 0.1386 - tp: 438.0000 - fp: 6.0000 - tn: 932.0000 - fn: 24.0000 - accuracy: 0.9786 - precision: 0.9865 - recall: 0.9481 - auc: 0.9843 - binary_crossentropy: 0.1977 - val_loss: 0.2071 - val_tp: 89.0000 - val_fp: 30.0000 - val_tn: 189.0000 - val_fn: 36.0000 - val_accuracy: 0.8081 - val_precision: 0.7479 - val_recall: 0.7120 - val_auc: 0.8739 - val_binary_crossentropy: 0.6000\n",
      "Epoch 26/100\n",
      "175/175 [==============================] - 128s 731ms/step - loss: 0.1374 - tp: 436.0000 - fp: 3.0000 - tn: 937.0000 - fn: 24.0000 - accuracy: 0.9807 - precision: 0.9932 - recall: 0.9478 - auc: 0.9893 - binary_crossentropy: 0.1921 - val_loss: 0.2104 - val_tp: 74.0000 - val_fp: 24.0000 - val_tn: 195.0000 - val_fn: 51.0000 - val_accuracy: 0.7820 - val_precision: 0.7551 - val_recall: 0.5920 - val_auc: 0.8606 - val_binary_crossentropy: 0.7195\n",
      "Epoch 27/100\n",
      "175/175 [==============================] - 128s 732ms/step - loss: 0.1357 - tp: 445.0000 - fp: 6.0000 - tn: 930.0000 - fn: 19.0000 - accuracy: 0.9821 - precision: 0.9867 - recall: 0.9591 - auc: 0.9829 - binary_crossentropy: 0.2047 - val_loss: 0.2046 - val_tp: 80.0000 - val_fp: 31.0000 - val_tn: 198.0000 - val_fn: 35.0000 - val_accuracy: 0.8081 - val_precision: 0.7207 - val_recall: 0.6957 - val_auc: 0.8644 - val_binary_crossentropy: 0.6676\n",
      "Epoch 28/100\n",
      "175/175 [==============================] - 128s 731ms/step - loss: 0.1364 - tp: 437.0000 - fp: 9.0000 - tn: 934.0000 - fn: 20.0000 - accuracy: 0.9793 - precision: 0.9798 - recall: 0.9562 - auc: 0.9841 - binary_crossentropy: 0.2013 - val_loss: 0.2080 - val_tp: 78.0000 - val_fp: 29.0000 - val_tn: 195.0000 - val_fn: 42.0000 - val_accuracy: 0.7936 - val_precision: 0.7290 - val_recall: 0.6500 - val_auc: 0.8403 - val_binary_crossentropy: 0.7436\n",
      "Epoch 29/100\n",
      "175/175 [==============================] - 126s 720ms/step - loss: 0.1326 - tp: 445.0000 - fp: 3.0000 - tn: 938.0000 - fn: 14.0000 - accuracy: 0.9879 - precision: 0.9933 - recall: 0.9695 - auc: 0.9891 - binary_crossentropy: 0.1706 - val_loss: 0.1974 - val_tp: 89.0000 - val_fp: 27.0000 - val_tn: 196.0000 - val_fn: 32.0000 - val_accuracy: 0.8285 - val_precision: 0.7672 - val_recall: 0.7355 - val_auc: 0.8581 - val_binary_crossentropy: 0.6339\n",
      "Epoch 30/100\n",
      "175/175 [==============================] - 129s 736ms/step - loss: 0.1324 - tp: 463.0000 - fp: 3.0000 - tn: 919.0000 - fn: 15.0000 - accuracy: 0.9871 - precision: 0.9936 - recall: 0.9686 - auc: 0.9906 - binary_crossentropy: 0.1667 - val_loss: 0.2015 - val_tp: 72.0000 - val_fp: 30.0000 - val_tn: 205.0000 - val_fn: 37.0000 - val_accuracy: 0.8052 - val_precision: 0.7059 - val_recall: 0.6606 - val_auc: 0.8581 - val_binary_crossentropy: 0.6088\n",
      "Epoch 31/100\n",
      "175/175 [==============================] - 128s 729ms/step - loss: 0.1310 - tp: 420.0000 - fp: 5.0000 - tn: 957.0000 - fn: 18.0000 - accuracy: 0.9836 - precision: 0.9882 - recall: 0.9589 - auc: 0.9869 - binary_crossentropy: 0.1732 - val_loss: 0.2124 - val_tp: 79.0000 - val_fp: 32.0000 - val_tn: 187.0000 - val_fn: 46.0000 - val_accuracy: 0.7733 - val_precision: 0.7117 - val_recall: 0.6320 - val_auc: 0.8458 - val_binary_crossentropy: 0.7358\n",
      "Epoch 32/100\n"
     ]
    },
    {
     "name": "stdout",
     "output_type": "stream",
     "text": [
      "175/175 [==============================] - 128s 731ms/step - loss: 0.1327 - tp: 441.0000 - fp: 6.0000 - tn: 931.0000 - fn: 22.0000 - accuracy: 0.9800 - precision: 0.9866 - recall: 0.9525 - auc: 0.9829 - binary_crossentropy: 0.1995 - val_loss: 0.2042 - val_tp: 77.0000 - val_fp: 29.0000 - val_tn: 198.0000 - val_fn: 40.0000 - val_accuracy: 0.7994 - val_precision: 0.7264 - val_recall: 0.6581 - val_auc: 0.8280 - val_binary_crossentropy: 0.7277\n",
      "Epoch 33/100\n",
      "175/175 [==============================] - 128s 731ms/step - loss: 0.1322 - tp: 453.0000 - fp: 3.0000 - tn: 922.0000 - fn: 22.0000 - accuracy: 0.9821 - precision: 0.9934 - recall: 0.9537 - auc: 0.9833 - binary_crossentropy: 0.2217 - val_loss: 0.1923 - val_tp: 84.0000 - val_fp: 26.0000 - val_tn: 202.0000 - val_fn: 32.0000 - val_accuracy: 0.8314 - val_precision: 0.7636 - val_recall: 0.7241 - val_auc: 0.8681 - val_binary_crossentropy: 0.6105\n",
      "Epoch 34/100\n",
      "175/175 [==============================] - 128s 734ms/step - loss: 0.1302 - tp: 445.0000 - fp: 4.0000 - tn: 931.0000 - fn: 20.0000 - accuracy: 0.9829 - precision: 0.9911 - recall: 0.9570 - auc: 0.9878 - binary_crossentropy: 0.1798 - val_loss: 0.1983 - val_tp: 85.0000 - val_fp: 27.0000 - val_tn: 197.0000 - val_fn: 35.0000 - val_accuracy: 0.8198 - val_precision: 0.7589 - val_recall: 0.7083 - val_auc: 0.8581 - val_binary_crossentropy: 0.6531\n",
      "Epoch 35/100\n",
      "175/175 [==============================] - 133s 762ms/step - loss: 0.1298 - tp: 444.0000 - fp: 5.0000 - tn: 934.0000 - fn: 17.0000 - accuracy: 0.9843 - precision: 0.9889 - recall: 0.9631 - auc: 0.9882 - binary_crossentropy: 0.1724 - val_loss: 0.1918 - val_tp: 73.0000 - val_fp: 31.0000 - val_tn: 209.0000 - val_fn: 31.0000 - val_accuracy: 0.8198 - val_precision: 0.7019 - val_recall: 0.7019 - val_auc: 0.8577 - val_binary_crossentropy: 0.5561\n",
      "Epoch 36/100\n",
      "175/175 [==============================] - 126s 721ms/step - loss: 0.1280 - tp: 441.0000 - fp: 5.0000 - tn: 937.0000 - fn: 17.0000 - accuracy: 0.9843 - precision: 0.9888 - recall: 0.9629 - auc: 0.9956 - binary_crossentropy: 0.1589 - val_loss: 0.2062 - val_tp: 78.0000 - val_fp: 31.0000 - val_tn: 194.0000 - val_fn: 41.0000 - val_accuracy: 0.7907 - val_precision: 0.7156 - val_recall: 0.6555 - val_auc: 0.8374 - val_binary_crossentropy: 0.7254\n",
      "Epoch 37/100\n",
      "175/175 [==============================] - 128s 733ms/step - loss: 0.1289 - tp: 445.0000 - fp: 3.0000 - tn: 929.0000 - fn: 23.0000 - accuracy: 0.9814 - precision: 0.9933 - recall: 0.9509 - auc: 0.9881 - binary_crossentropy: 0.1801 - val_loss: 0.2038 - val_tp: 84.0000 - val_fp: 31.0000 - val_tn: 186.0000 - val_fn: 43.0000 - val_accuracy: 0.7849 - val_precision: 0.7304 - val_recall: 0.6614 - val_auc: 0.8573 - val_binary_crossentropy: 0.6748\n",
      "Epoch 38/100\n",
      "175/175 [==============================] - 128s 734ms/step - loss: 0.1248 - tp: 427.0000 - fp: 6.0000 - tn: 955.0000 - fn: 12.0000 - accuracy: 0.9871 - precision: 0.9861 - recall: 0.9727 - auc: 0.9896 - binary_crossentropy: 0.1603 - val_loss: 0.2084 - val_tp: 78.0000 - val_fp: 29.0000 - val_tn: 189.0000 - val_fn: 48.0000 - val_accuracy: 0.7762 - val_precision: 0.7290 - val_recall: 0.6190 - val_auc: 0.8544 - val_binary_crossentropy: 0.7394\n",
      "Epoch 39/100\n",
      "175/175 [==============================] - 130s 742ms/step - loss: 0.1260 - tp: 472.0000 - fp: 3.0000 - tn: 913.0000 - fn: 12.0000 - accuracy: 0.9893 - precision: 0.9937 - recall: 0.9752 - auc: 0.9895 - binary_crossentropy: 0.1682 - val_loss: 0.1944 - val_tp: 69.0000 - val_fp: 28.0000 - val_tn: 205.0000 - val_fn: 42.0000 - val_accuracy: 0.7965 - val_precision: 0.7113 - val_recall: 0.6216 - val_auc: 0.8623 - val_binary_crossentropy: 0.6574\n",
      "Epoch 40/100\n",
      "175/175 [==============================] - 130s 743ms/step - loss: 0.1262 - tp: 433.0000 - fp: 5.0000 - tn: 942.0000 - fn: 20.0000 - accuracy: 0.9821 - precision: 0.9886 - recall: 0.9558 - auc: 0.9843 - binary_crossentropy: 0.1837 - val_loss: 0.2014 - val_tp: 86.0000 - val_fp: 23.0000 - val_tn: 191.0000 - val_fn: 44.0000 - val_accuracy: 0.8052 - val_precision: 0.7890 - val_recall: 0.6615 - val_auc: 0.8563 - val_binary_crossentropy: 0.7262\n",
      "Epoch 41/100\n",
      "175/175 [==============================] - 129s 735ms/step - loss: 0.1265 - tp: 445.0000 - fp: 7.0000 - tn: 929.0000 - fn: 19.0000 - accuracy: 0.9814 - precision: 0.9845 - recall: 0.9591 - auc: 0.9887 - binary_crossentropy: 0.1852 - val_loss: 0.2050 - val_tp: 82.0000 - val_fp: 27.0000 - val_tn: 190.0000 - val_fn: 45.0000 - val_accuracy: 0.7907 - val_precision: 0.7523 - val_recall: 0.6457 - val_auc: 0.8499 - val_binary_crossentropy: 0.7514\n",
      "Epoch 42/100\n",
      "175/175 [==============================] - 129s 739ms/step - loss: 0.1239 - tp: 449.0000 - fp: 3.0000 - tn: 931.0000 - fn: 17.0000 - accuracy: 0.9857 - precision: 0.9934 - recall: 0.9635 - auc: 0.9856 - binary_crossentropy: 0.1737 - val_loss: 0.2074 - val_tp: 85.0000 - val_fp: 30.0000 - val_tn: 183.0000 - val_fn: 46.0000 - val_accuracy: 0.7791 - val_precision: 0.7391 - val_recall: 0.6489 - val_auc: 0.8336 - val_binary_crossentropy: 0.7947\n",
      "Epoch 43/100\n",
      "175/175 [==============================] - 129s 738ms/step - loss: 0.1216 - tp: 433.0000 - fp: 2.0000 - tn: 950.0000 - fn: 15.0000 - accuracy: 0.9879 - precision: 0.9954 - recall: 0.9665 - auc: 0.9898 - binary_crossentropy: 0.1655 - val_loss: 0.1959 - val_tp: 90.0000 - val_fp: 25.0000 - val_tn: 190.0000 - val_fn: 39.0000 - val_accuracy: 0.8140 - val_precision: 0.7826 - val_recall: 0.6977 - val_auc: 0.8765 - val_binary_crossentropy: 0.6419\n",
      "Epoch 44/100\n",
      "175/175 [==============================] - 129s 735ms/step - loss: 0.1214 - tp: 458.0000 - fp: 3.0000 - tn: 929.0000 - fn: 10.0000 - accuracy: 0.9907 - precision: 0.9935 - recall: 0.9786 - auc: 0.9924 - binary_crossentropy: 0.1546 - val_loss: 0.2028 - val_tp: 79.0000 - val_fp: 25.0000 - val_tn: 193.0000 - val_fn: 47.0000 - val_accuracy: 0.7907 - val_precision: 0.7596 - val_recall: 0.6270 - val_auc: 0.8463 - val_binary_crossentropy: 0.7872\n",
      "Epoch 45/100\n",
      "175/175 [==============================] - 129s 738ms/step - loss: 0.1226 - tp: 454.0000 - fp: 2.0000 - tn: 924.0000 - fn: 20.0000 - accuracy: 0.9843 - precision: 0.9956 - recall: 0.9578 - auc: 0.9854 - binary_crossentropy: 0.1862 - val_loss: 0.1939 - val_tp: 77.0000 - val_fp: 32.0000 - val_tn: 202.0000 - val_fn: 33.0000 - val_accuracy: 0.8110 - val_precision: 0.7064 - val_recall: 0.7000 - val_auc: 0.8556 - val_binary_crossentropy: 0.6289\n"
     ]
    }
   ],
   "source": [
    "history = model.fit(train_dataset, epochs=EPOCHS, callbacks=[lr, es, model_chkpt],\n",
    "                        steps_per_epoch=x_train.shape[0]//BATCH_SIZE, validation_data=val_dataset,\n",
    "                        validation_steps=x_val.shape[0]//BATCH_SIZE,\n",
    "                        class_weight = class_weights)"
   ]
  },
  {
   "cell_type": "code",
   "execution_count": 26,
   "metadata": {},
   "outputs": [
    {
     "data": {
      "text/plain": [
       "<tensorflow.python.keras.callbacks.History at 0x20e8280d348>"
      ]
     },
     "execution_count": 26,
     "metadata": {},
     "output_type": "execute_result"
    }
   ],
   "source": [
    "history"
   ]
  },
  {
   "cell_type": "code",
   "execution_count": 27,
   "metadata": {},
   "outputs": [],
   "source": [
    "pred = model.predict(test_dataset)"
   ]
  },
  {
   "cell_type": "code",
   "execution_count": 28,
   "metadata": {},
   "outputs": [
    {
     "data": {
      "text/plain": [
       "array([[1.3071077e-03],\n",
       "       [1.7081249e-04],\n",
       "       [5.6652707e-04],\n",
       "       ...,\n",
       "       [7.2037172e-01],\n",
       "       [7.3512719e-04],\n",
       "       [6.6319335e-01]], dtype=float32)"
      ]
     },
     "execution_count": 28,
     "metadata": {},
     "output_type": "execute_result"
    }
   ],
   "source": [
    "pred"
   ]
  },
  {
   "cell_type": "code",
   "execution_count": 29,
   "metadata": {},
   "outputs": [],
   "source": [
    "sam = pd.read_csv(\"sample_submission.csv\")"
   ]
  },
  {
   "cell_type": "code",
   "execution_count": 30,
   "metadata": {},
   "outputs": [
    {
     "data": {
      "text/html": [
       "<div>\n",
       "<style scoped>\n",
       "    .dataframe tbody tr th:only-of-type {\n",
       "        vertical-align: middle;\n",
       "    }\n",
       "\n",
       "    .dataframe tbody tr th {\n",
       "        vertical-align: top;\n",
       "    }\n",
       "\n",
       "    .dataframe thead th {\n",
       "        text-align: right;\n",
       "    }\n",
       "</style>\n",
       "<table border=\"1\" class=\"dataframe\">\n",
       "  <thead>\n",
       "    <tr style=\"text-align: right;\">\n",
       "      <th></th>\n",
       "      <th>image_name</th>\n",
       "      <th>target</th>\n",
       "    </tr>\n",
       "  </thead>\n",
       "  <tbody>\n",
       "    <tr>\n",
       "      <th>0</th>\n",
       "      <td>ISIC_0052060</td>\n",
       "      <td>0</td>\n",
       "    </tr>\n",
       "    <tr>\n",
       "      <th>1</th>\n",
       "      <td>ISIC_0052349</td>\n",
       "      <td>0</td>\n",
       "    </tr>\n",
       "    <tr>\n",
       "      <th>2</th>\n",
       "      <td>ISIC_0058510</td>\n",
       "      <td>0</td>\n",
       "    </tr>\n",
       "    <tr>\n",
       "      <th>3</th>\n",
       "      <td>ISIC_0073313</td>\n",
       "      <td>0</td>\n",
       "    </tr>\n",
       "    <tr>\n",
       "      <th>4</th>\n",
       "      <td>ISIC_0073502</td>\n",
       "      <td>0</td>\n",
       "    </tr>\n",
       "  </tbody>\n",
       "</table>\n",
       "</div>"
      ],
      "text/plain": [
       "     image_name  target\n",
       "0  ISIC_0052060       0\n",
       "1  ISIC_0052349       0\n",
       "2  ISIC_0058510       0\n",
       "3  ISIC_0073313       0\n",
       "4  ISIC_0073502       0"
      ]
     },
     "execution_count": 30,
     "metadata": {},
     "output_type": "execute_result"
    }
   ],
   "source": [
    "sam.head()\n"
   ]
  },
  {
   "cell_type": "code",
   "execution_count": 31,
   "metadata": {},
   "outputs": [],
   "source": [
    "sam[\"target\"] = pred"
   ]
  },
  {
   "cell_type": "code",
   "execution_count": 32,
   "metadata": {},
   "outputs": [
    {
     "data": {
      "text/html": [
       "<div>\n",
       "<style scoped>\n",
       "    .dataframe tbody tr th:only-of-type {\n",
       "        vertical-align: middle;\n",
       "    }\n",
       "\n",
       "    .dataframe tbody tr th {\n",
       "        vertical-align: top;\n",
       "    }\n",
       "\n",
       "    .dataframe thead th {\n",
       "        text-align: right;\n",
       "    }\n",
       "</style>\n",
       "<table border=\"1\" class=\"dataframe\">\n",
       "  <thead>\n",
       "    <tr style=\"text-align: right;\">\n",
       "      <th></th>\n",
       "      <th>image_name</th>\n",
       "      <th>target</th>\n",
       "    </tr>\n",
       "  </thead>\n",
       "  <tbody>\n",
       "    <tr>\n",
       "      <th>0</th>\n",
       "      <td>ISIC_0052060</td>\n",
       "      <td>0.001307</td>\n",
       "    </tr>\n",
       "    <tr>\n",
       "      <th>1</th>\n",
       "      <td>ISIC_0052349</td>\n",
       "      <td>0.000171</td>\n",
       "    </tr>\n",
       "    <tr>\n",
       "      <th>2</th>\n",
       "      <td>ISIC_0058510</td>\n",
       "      <td>0.000567</td>\n",
       "    </tr>\n",
       "    <tr>\n",
       "      <th>3</th>\n",
       "      <td>ISIC_0073313</td>\n",
       "      <td>0.000642</td>\n",
       "    </tr>\n",
       "    <tr>\n",
       "      <th>4</th>\n",
       "      <td>ISIC_0073502</td>\n",
       "      <td>0.585236</td>\n",
       "    </tr>\n",
       "    <tr>\n",
       "      <th>...</th>\n",
       "      <td>...</td>\n",
       "      <td>...</td>\n",
       "    </tr>\n",
       "    <tr>\n",
       "      <th>10977</th>\n",
       "      <td>ISIC_9992485</td>\n",
       "      <td>0.000582</td>\n",
       "    </tr>\n",
       "    <tr>\n",
       "      <th>10978</th>\n",
       "      <td>ISIC_9996992</td>\n",
       "      <td>0.001894</td>\n",
       "    </tr>\n",
       "    <tr>\n",
       "      <th>10979</th>\n",
       "      <td>ISIC_9997917</td>\n",
       "      <td>0.720372</td>\n",
       "    </tr>\n",
       "    <tr>\n",
       "      <th>10980</th>\n",
       "      <td>ISIC_9998234</td>\n",
       "      <td>0.000735</td>\n",
       "    </tr>\n",
       "    <tr>\n",
       "      <th>10981</th>\n",
       "      <td>ISIC_9999302</td>\n",
       "      <td>0.663193</td>\n",
       "    </tr>\n",
       "  </tbody>\n",
       "</table>\n",
       "<p>10982 rows × 2 columns</p>\n",
       "</div>"
      ],
      "text/plain": [
       "         image_name    target\n",
       "0      ISIC_0052060  0.001307\n",
       "1      ISIC_0052349  0.000171\n",
       "2      ISIC_0058510  0.000567\n",
       "3      ISIC_0073313  0.000642\n",
       "4      ISIC_0073502  0.585236\n",
       "...             ...       ...\n",
       "10977  ISIC_9992485  0.000582\n",
       "10978  ISIC_9996992  0.001894\n",
       "10979  ISIC_9997917  0.720372\n",
       "10980  ISIC_9998234  0.000735\n",
       "10981  ISIC_9999302  0.663193\n",
       "\n",
       "[10982 rows x 2 columns]"
      ]
     },
     "execution_count": 32,
     "metadata": {},
     "output_type": "execute_result"
    }
   ],
   "source": [
    "sam"
   ]
  },
  {
   "cell_type": "code",
   "execution_count": 33,
   "metadata": {},
   "outputs": [],
   "source": [
    "sam.to_csv(\"inceptionv3_barzil_researcher_image_augmentation_exp.csv\", index=False)"
   ]
  },
  {
   "cell_type": "code",
   "execution_count": null,
   "metadata": {},
   "outputs": [],
   "source": []
  }
 ],
 "metadata": {
  "kernelspec": {
   "display_name": "Python 3",
   "language": "python",
   "name": "python3"
  },
  "language_info": {
   "codemirror_mode": {
    "name": "ipython",
    "version": 3
   },
   "file_extension": ".py",
   "mimetype": "text/x-python",
   "name": "python",
   "nbconvert_exporter": "python",
   "pygments_lexer": "ipython3",
   "version": "3.7.6"
  }
 },
 "nbformat": 4,
 "nbformat_minor": 4
}
